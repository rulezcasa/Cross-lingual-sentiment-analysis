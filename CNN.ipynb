{
 "cells": [
  {
   "cell_type": "code",
   "execution_count": 2,
   "id": "91b354e3-dd73-4dc7-8183-75dad1f5f753",
   "metadata": {},
   "outputs": [],
   "source": [
    "import torch\n",
    "from torchtext import data\n",
    "import random\n",
    "import torch.nn as nn\n",
    "import torch.optim as optim\n",
    "import torchtext.vocab as vocab\n",
    "import torch.nn.functional as F\n",
    "import nltk\n",
    "from nltk.tokenize import word_tokenize"
   ]
  },
  {
   "cell_type": "code",
   "execution_count": 6,
   "id": "a9be1f98-6fdf-4542-8934-a72a2f529ec1",
   "metadata": {},
   "outputs": [],
   "source": [
    "custom_embeddings = vocab.Vectors(name='W2V-Kin-50.txt',\n",
    "                                  cache='cache',\n",
    "                                  unk_init=torch.Tensor.normal_)"
   ]
  },
  {
   "cell_type": "code",
   "execution_count": 244,
   "id": "e2da9bbc-b7db-4d18-859a-25633432be7b",
   "metadata": {},
   "outputs": [
    {
     "name": "stderr",
     "output_type": "stream",
     "text": [
      "[nltk_data] Downloading package punkt to /Users/casarulez/nltk_data...\n",
      "[nltk_data]   Package punkt is already up-to-date!\n"
     ]
    },
    {
     "data": {
      "text/plain": [
       "True"
      ]
     },
     "execution_count": 244,
     "metadata": {},
     "output_type": "execute_result"
    }
   ],
   "source": [
    "# Ensure the necessary NLTK tokenizer data is downloaded\n",
    "nltk.download('punkt')"
   ]
  },
  {
   "cell_type": "code",
   "execution_count": 3,
   "id": "523f48b7-0964-473f-b71b-b959a05c66d5",
   "metadata": {},
   "outputs": [],
   "source": [
    "SEED = 1234\n",
    "torch.manual_seed(SEED)\n",
    "torch.cuda.manual_seed(SEED)\n",
    "torch.backends.cudnn.deterministic = True\n",
    "\n",
    "# Define fields to hold the data using NLTK tokenizer\n",
    "LABEL = data.LabelField(dtype=torch.float)\n",
    "TITLE = data.Field(tokenize=word_tokenize)\n",
    "TEXT = data.Field(tokenize=word_tokenize)\n",
    "\n",
    "fields = [('label', LABEL), ('title', TITLE), ('content', TEXT)]"
   ]
  },
  {
   "cell_type": "code",
   "execution_count": 4,
   "id": "5d84e9a5-a4ba-4a32-8ad9-e96609def007",
   "metadata": {},
   "outputs": [],
   "source": [
    "train_data, test_data = data.TabularDataset.splits(\n",
    "    path='cleaned',\n",
    "    train='train.csv', \n",
    "    test='test.csv',\n",
    "    format='csv',\n",
    "    fields=fields,\n",
    "    skip_header=True  # dataset has a header(title)\n",
    ")"
   ]
  },
  {
   "cell_type": "code",
   "execution_count": 5,
   "id": "248226be-8765-43ce-821c-f1aed19d50fe",
   "metadata": {},
   "outputs": [],
   "source": [
    "# Perform train/validation set split\n",
    "train_data, valid_data = train_data.split(split_ratio=0.9, random_state=random.seed(SEED))\n",
    "\n",
    "# Build the vocabulary\n",
    "TEXT.build_vocab(train_data.title, train_data.content, max_size=15000, vectors=custom_embeddings)\n",
    "TITLE.vocab = TEXT.vocab\n",
    "LABEL.build_vocab(train_data)"
   ]
  },
  {
   "cell_type": "code",
   "execution_count": 6,
   "id": "1519d4fd-4764-4d5b-ae31-17eecece0060",
   "metadata": {},
   "outputs": [],
   "source": [
    "# Create the iterator and place the tensor it returned on GPU(if it is available)\n",
    "BATCH_SIZE = 32\n",
    "device = torch.device('mps' if torch.cuda.is_available() else 'cpu')\n",
    "\n",
    "train_iterator, valid_iterator, test_iterator = data.BucketIterator.splits(\n",
    "    (train_data, valid_data, test_data),\n",
    "    batch_size=BATCH_SIZE,\n",
    "    sort_key=lambda x: len(x.content),\n",
    "    device=device\n",
    ")"
   ]
  },
  {
   "cell_type": "code",
   "execution_count": 7,
   "id": "b4ec3585-9445-4801-bdac-380fd100e5df",
   "metadata": {},
   "outputs": [],
   "source": [
    "# Build the model\n",
    "class CNN(nn.Module):\n",
    "    def __init__(self, vocab_size, embedding_dim, n_filters,\n",
    "                 filter_sizes, output_dim, dropout, pad_idx):\n",
    "        super().__init__()\n",
    "\n",
    "        self.embedding = nn.Embedding(vocab_size, embedding_dim, padding_idx=pad_idx)\n",
    "        self.convs = nn.ModuleList([\n",
    "            nn.Conv2d(in_channels=1,\n",
    "                      out_channels=n_filters,\n",
    "                      kernel_size=(fs, embedding_dim))\n",
    "            for fs in filter_sizes\n",
    "        ])\n",
    "        self.fc = nn.Linear(len(filter_sizes) * n_filters, output_dim)\n",
    "        self.dropout = nn.Dropout(dropout)\n",
    "\n",
    "    def forward(self, text):\n",
    "        text = text.permute(1, 0)\n",
    "        embedded = self.embedding(text)\n",
    "        embedded = embedded.unsqueeze(1)\n",
    "        conved = [F.relu(conv(embedded)).squeeze(3) for conv in self.convs]\n",
    "        pooled = [F.max_pool1d(conv, conv.shape[2]).squeeze(2) for conv in conved]\n",
    "        cat = self.dropout(torch.cat(pooled, dim=1))\n",
    "        return self.fc(cat)"
   ]
  },
  {
   "cell_type": "code",
   "execution_count": 10,
   "id": "f05099f6-d727-43f1-a604-bf7694a658d4",
   "metadata": {},
   "outputs": [],
   "source": [
    "# Create the instance of the model\n",
    "INPUT_DIM = len(TEXT.vocab)\n",
    "EMBEDDING_DIM = 50  # Updated to match the GloVe embeddings dimension\n",
    "N_FILTERS = 150\n",
    "FILTER_SIZES = [3, 4, 5]\n",
    "OUTPUT_DIM = len(LABEL.vocab)\n",
    "DROPOUT = 0.5\n",
    "PAD_IDX = TEXT.vocab.stoi[TEXT.pad_token]\n"
   ]
  },
  {
   "cell_type": "code",
   "execution_count": 11,
   "id": "396633a1-c0a2-433c-ad97-805bf699940c",
   "metadata": {},
   "outputs": [],
   "source": [
    "model = CNN(INPUT_DIM, EMBEDDING_DIM, N_FILTERS, FILTER_SIZES, OUTPUT_DIM, DROPOUT, PAD_IDX)\n",
    "\n",
    "pretrained_embeddings = TEXT.vocab.vectors\n",
    "\n",
    "model.embedding.weight.data.copy_(pretrained_embeddings)\n",
    "\n",
    "UNK_IDX = TEXT.vocab.stoi[TEXT.unk_token]\n",
    "\n",
    "model.embedding.weight.data[UNK_IDX] = torch.zeros(EMBEDDING_DIM)\n",
    "model.embedding.weight.data[PAD_IDX] = torch.zeros(EMBEDDING_DIM)\n",
    "\n",
    "optimizer = optim.Adam(model.parameters())\n",
    "\n",
    "criterion = nn.CrossEntropyLoss()\n",
    "\n",
    "model = model.to(device)\n",
    "criterion = criterion.to(device)"
   ]
  },
  {
   "cell_type": "code",
   "execution_count": 12,
   "id": "f31dc290-21f3-429d-9df6-0a1d63aa0230",
   "metadata": {},
   "outputs": [],
   "source": [
    "def multiclass_accuracy(preds, y):\n",
    "    \"\"\"\n",
    "    Returns accuracy per batch, i.e. if you get 8/10 right, this returns 0.8, NOT 8\n",
    "    \"\"\"\n",
    "    rounded_preds = torch.max(preds, 1)[1]\n",
    "    correct = (rounded_preds == y).float()  # convert into float for division\n",
    "    acc = correct.sum() / len(correct)\n",
    "    return acc"
   ]
  },
  {
   "cell_type": "code",
   "execution_count": 13,
   "id": "8472a7a4-d871-4619-a30f-f89799fb36d4",
   "metadata": {},
   "outputs": [],
   "source": [
    "def multiclass_accuracy(preds, y):\n",
    "    \"\"\"\n",
    "    Returns accuracy per batch, i.e. if you get 8/10 right, this returns 0.8, NOT 8\n",
    "    \"\"\"\n",
    "    rounded_preds = torch.max(preds, 1)[1]\n",
    "    correct = (rounded_preds == y).float()  # convert into float for division\n",
    "    acc = correct.sum() / len(correct)\n",
    "    return acc\n",
    "\n",
    "# Train the model\n",
    "def train(model, iterator, optimizer, criterion):\n",
    "    \"\"\"Training the model\"\"\"\n",
    "    epoch_loss = 0\n",
    "    epoch_acc = 0\n",
    "    model.train()\n",
    "\n",
    "    for batch in iterator:\n",
    "        optimizer.zero_grad()\n",
    "\n",
    "        predictions = model(torch.cat((batch.title, batch.content), 0)).squeeze(1)\n",
    "        loss = criterion(predictions, batch.label.type(torch.long).to(device))\n",
    "        acc = multiclass_accuracy(predictions, batch.label.type(torch.long).to(device))\n",
    "        loss.backward()\n",
    "        optimizer.step()\n",
    "        epoch_loss += loss.item()\n",
    "        epoch_acc += acc.item()\n",
    "\n",
    "    return epoch_loss / len(iterator), epoch_acc / len(iterator)\n",
    "\n",
    "# Evaluate the model\n",
    "def evaluate(model, iterator, criterion):\n",
    "    \"\"\"Evaluating the model\"\"\"\n",
    "    epoch_loss = 0\n",
    "    epoch_acc = 0\n",
    "    model.eval()\n",
    "\n",
    "    with torch.no_grad():\n",
    "        for batch in iterator:\n",
    "            predictions = model(torch.cat((batch.title, batch.content), 0)).squeeze(1)\n",
    "            loss = criterion(predictions, batch.label.type(torch.long).to(device))\n",
    "            acc = multiclass_accuracy(predictions, batch.label.type(torch.long).to(device))\n",
    "            epoch_loss += loss.item()\n",
    "            epoch_acc += acc.item()\n",
    "\n",
    "    return epoch_loss / len(iterator), epoch_acc / len(iterator)\n",
    "\n",
    "def count_parameters(model):\n",
    "    return sum(p.numel() for p in model.parameters() if p.requires_grad)\n"
   ]
  },
  {
   "cell_type": "code",
   "execution_count": 14,
   "id": "2bb2b591-6a45-4e6b-82ab-9086f55c276e",
   "metadata": {},
   "outputs": [
    {
     "name": "stderr",
     "output_type": "stream",
     "text": [
      "Training Epoch 1: 100%|███████████████████████| 466/466 [01:11<00:00,  6.48it/s]\n",
      "Validating Epoch 1: 100%|███████████████████████| 52/52 [00:01<00:00, 37.37it/s]\n"
     ]
    },
    {
     "name": "stdout",
     "output_type": "stream",
     "text": [
      "\n",
      "| Epoch: 01 | Train Loss: 1.057 | Train Acc: 68.41% | Val. Loss: 0.656 | Val. Acc: 79.16% |\n"
     ]
    },
    {
     "name": "stderr",
     "output_type": "stream",
     "text": [
      "Training Epoch 2: 100%|███████████████████████| 466/466 [01:10<00:00,  6.60it/s]\n",
      "Validating Epoch 2: 100%|███████████████████████| 52/52 [00:01<00:00, 37.56it/s]\n"
     ]
    },
    {
     "name": "stdout",
     "output_type": "stream",
     "text": [
      "\n",
      "| Epoch: 02 | Train Loss: 0.564 | Train Acc: 82.96% | Val. Loss: 0.511 | Val. Acc: 84.01% |\n"
     ]
    },
    {
     "name": "stderr",
     "output_type": "stream",
     "text": [
      "Training Epoch 3: 100%|███████████████████████| 466/466 [01:10<00:00,  6.57it/s]\n",
      "Validating Epoch 3: 100%|███████████████████████| 52/52 [00:01<00:00, 39.73it/s]\n"
     ]
    },
    {
     "name": "stdout",
     "output_type": "stream",
     "text": [
      "\n",
      "| Epoch: 03 | Train Loss: 0.423 | Train Acc: 86.86% | Val. Loss: 0.461 | Val. Acc: 86.30% |\n"
     ]
    },
    {
     "name": "stderr",
     "output_type": "stream",
     "text": [
      "Training Epoch 4: 100%|███████████████████████| 466/466 [01:12<00:00,  6.43it/s]\n",
      "Validating Epoch 4: 100%|███████████████████████| 52/52 [00:01<00:00, 35.85it/s]\n"
     ]
    },
    {
     "name": "stdout",
     "output_type": "stream",
     "text": [
      "\n",
      "| Epoch: 04 | Train Loss: 0.327 | Train Acc: 90.01% | Val. Loss: 0.422 | Val. Acc: 87.36% |\n"
     ]
    },
    {
     "name": "stderr",
     "output_type": "stream",
     "text": [
      "Training Epoch 5: 100%|███████████████████████| 466/466 [01:12<00:00,  6.44it/s]\n",
      "Validating Epoch 5: 100%|███████████████████████| 52/52 [00:01<00:00, 33.87it/s]\n"
     ]
    },
    {
     "name": "stdout",
     "output_type": "stream",
     "text": [
      "\n",
      "| Epoch: 05 | Train Loss: 0.261 | Train Acc: 91.95% | Val. Loss: 0.406 | Val. Acc: 87.80% |\n"
     ]
    },
    {
     "name": "stderr",
     "output_type": "stream",
     "text": [
      "Training Epoch 6: 100%|███████████████████████| 466/466 [01:10<00:00,  6.58it/s]\n",
      "Validating Epoch 6: 100%|███████████████████████| 52/52 [00:01<00:00, 34.49it/s]\n"
     ]
    },
    {
     "name": "stdout",
     "output_type": "stream",
     "text": [
      "\n",
      "| Epoch: 06 | Train Loss: 0.203 | Train Acc: 93.87% | Val. Loss: 0.419 | Val. Acc: 87.88% |\n"
     ]
    },
    {
     "name": "stderr",
     "output_type": "stream",
     "text": [
      "Training Epoch 7: 100%|███████████████████████| 466/466 [01:11<00:00,  6.50it/s]\n",
      "Validating Epoch 7: 100%|███████████████████████| 52/52 [00:01<00:00, 30.89it/s]\n"
     ]
    },
    {
     "name": "stdout",
     "output_type": "stream",
     "text": [
      "\n",
      "| Epoch: 07 | Train Loss: 0.161 | Train Acc: 95.35% | Val. Loss: 0.433 | Val. Acc: 87.89% |\n"
     ]
    },
    {
     "name": "stderr",
     "output_type": "stream",
     "text": [
      "Training Epoch 8: 100%|███████████████████████| 466/466 [01:14<00:00,  6.25it/s]\n",
      "Validating Epoch 8: 100%|███████████████████████| 52/52 [00:01<00:00, 37.01it/s]\n"
     ]
    },
    {
     "name": "stdout",
     "output_type": "stream",
     "text": [
      "\n",
      "| Epoch: 08 | Train Loss: 0.131 | Train Acc: 96.33% | Val. Loss: 0.441 | Val. Acc: 87.88% |\n"
     ]
    },
    {
     "name": "stderr",
     "output_type": "stream",
     "text": [
      "Testing: 100%|████████████████████████████████| 130/130 [00:03<00:00, 36.16it/s]"
     ]
    },
    {
     "name": "stdout",
     "output_type": "stream",
     "text": [
      "| Test Loss: 0.465 | Test Acc: 87.40% |\n",
      "The model has 845,962 trainable parameters\n"
     ]
    },
    {
     "name": "stderr",
     "output_type": "stream",
     "text": [
      "\n"
     ]
    }
   ],
   "source": [
    "from tqdm import tqdm\n",
    "\n",
    "if __name__ == \"__main__\":\n",
    "    N_EPOCHS = 8\n",
    "\n",
    "    for epoch in range(N_EPOCHS):\n",
    "        # Wrapping train_iterator with tqdm for a progress bar\n",
    "        train_iterator = tqdm(train_iterator, desc=f\"Training Epoch {epoch + 1}\")\n",
    "        train_loss, train_acc = train(model, train_iterator, optimizer, criterion)\n",
    "        \n",
    "        # Wrapping valid_iterator with tqdm for a progress bar\n",
    "        valid_iterator = tqdm(valid_iterator, desc=f\"Validating Epoch {epoch + 1}\")\n",
    "        valid_loss, valid_acc = evaluate(model, valid_iterator, criterion)\n",
    "        \n",
    "        print(f'\\n| Epoch: {epoch + 1:02} | Train Loss: {train_loss:.3f} | Train Acc: {train_acc * 100:.2f}% |'\n",
    "              f' Val. Loss: {valid_loss:.3f} | Val. Acc: {valid_acc * 100:.2f}% |')\n",
    "\n",
    "    # Wrapping test_iterator with tqdm for a progress bar\n",
    "    test_iterator = tqdm(test_iterator, desc=\"Testing\")\n",
    "    test_loss, test_acc = evaluate(model, test_iterator, criterion)\n",
    "    print(f'| Test Loss: {test_loss:.3f} | Test Acc: {test_acc * 100:.2f}% |')\n",
    "\n",
    "    print(f'The model has {count_parameters(model):,} trainable parameters')\n"
   ]
  },
  {
   "cell_type": "code",
   "execution_count": 15,
   "id": "94797b7f-18c6-4f92-8ad2-e849ee818223",
   "metadata": {},
   "outputs": [],
   "source": [
    "torch.save(model.state_dict(), 'kinn_model.pt')"
   ]
  },
  {
   "cell_type": "markdown",
   "id": "433c60fd-194e-4466-8080-c615eb44c45d",
   "metadata": {},
   "source": [
    "## Kirundi - without fine tuning"
   ]
  },
  {
   "cell_type": "code",
   "execution_count": 3,
   "id": "e023b040-6f27-4039-9fe0-3d1ac39c42d1",
   "metadata": {},
   "outputs": [],
   "source": [
    "SEED = 1234\n",
    "torch.manual_seed(SEED)\n",
    "torch.cuda.manual_seed(SEED)\n",
    "torch.backends.cudnn.deterministic = True\n",
    "\n",
    "# Define fields to hold the data using NLTK tokenizer\n",
    "LABEL = data.LabelField(dtype=torch.long, use_vocab=True)\n",
    "TITLE = data.Field(tokenize=word_tokenize)\n",
    "TEXT = data.Field(tokenize=word_tokenize)\n",
    "\n",
    "fields = [('label', LABEL), ('title', TITLE), ('content', TEXT)]"
   ]
  },
  {
   "cell_type": "code",
   "execution_count": 4,
   "id": "a4c83f56-8811-45f7-9dcc-59b2cbe8a108",
   "metadata": {},
   "outputs": [],
   "source": [
    "# Load your dataset (modify according to your actual dataset path and format)\n",
    "train_data, test_data = data.TabularDataset.splits(\n",
    "    path='cleaned',  # Change to the directory containing your CSV files\n",
    "    train='train.csv',  # Change to your train CSV file name\n",
    "    test='kir_test.csv',  # Change to your test CSV file name\n",
    "    format='csv',\n",
    "    fields=fields,\n",
    "    skip_header=True  # dataset has a header\n",
    ")"
   ]
  },
  {
   "cell_type": "code",
   "execution_count": 7,
   "id": "c3255827-056a-4cd6-a81f-755789e25dac",
   "metadata": {},
   "outputs": [],
   "source": [
    "TEXT.build_vocab(train_data, max_size=15000, vectors=custom_embeddings)\n",
    "TITLE.vocab = TEXT.vocab  # Sharing the same vocab between TITLE and TEXT fields\n",
    "LABEL.build_vocab(train_data)"
   ]
  },
  {
   "cell_type": "code",
   "execution_count": 8,
   "id": "fc96114f-689b-4f77-b868-bc26e3d5b00f",
   "metadata": {},
   "outputs": [],
   "source": [
    "# Create the iterator and place the tensor it returned on GPU(if it is available)\n",
    "BATCH_SIZE = 32\n",
    "device = torch.device('mps' if torch.cuda.is_available() else 'cpu')\n",
    "\n",
    "test_iterator = data.BucketIterator(\n",
    "    (test_data),\n",
    "    batch_size=BATCH_SIZE,\n",
    "    sort_key=lambda x: len(x.content),\n",
    "    device=device\n",
    ")"
   ]
  },
  {
   "cell_type": "code",
   "execution_count": 9,
   "id": "bb28bfa8-d8ec-4c16-8548-38ad10e5023f",
   "metadata": {},
   "outputs": [],
   "source": [
    "# Build the model\n",
    "class CNN(nn.Module):\n",
    "    def __init__(self, vocab_size, embedding_dim, n_filters,\n",
    "                 filter_sizes, output_dim, dropout, pad_idx):\n",
    "        super().__init__()\n",
    "\n",
    "        self.embedding = nn.Embedding(vocab_size, embedding_dim, padding_idx=pad_idx)\n",
    "        self.convs = nn.ModuleList([\n",
    "            nn.Conv2d(in_channels=1,\n",
    "                      out_channels=n_filters,\n",
    "                      kernel_size=(fs, embedding_dim))\n",
    "            for fs in filter_sizes\n",
    "        ])\n",
    "        self.fc = nn.Linear(len(filter_sizes) * n_filters, output_dim)\n",
    "        self.dropout = nn.Dropout(dropout)\n",
    "\n",
    "    def forward(self, text):\n",
    "        text = text.permute(1, 0)\n",
    "        embedded = self.embedding(text)\n",
    "        embedded = embedded.unsqueeze(1)\n",
    "        conved = [F.relu(conv(embedded)).squeeze(3) for conv in self.convs]\n",
    "        pooled = [F.max_pool1d(conv, conv.shape[2]).squeeze(2) for conv in conved]\n",
    "        cat = self.dropout(torch.cat(pooled, dim=1))\n",
    "        return self.fc(cat)"
   ]
  },
  {
   "cell_type": "code",
   "execution_count": 10,
   "id": "a58b7fe5-ad0f-4189-a9ba-a3de41b64fcb",
   "metadata": {},
   "outputs": [],
   "source": [
    "# Create the instance of the model\n",
    "INPUT_DIM = len(TEXT.vocab)\n",
    "EMBEDDING_DIM = 50  # Updated to match the GloVe embeddings dimension\n",
    "N_FILTERS = 150\n",
    "FILTER_SIZES = [3, 4, 5]\n",
    "OUTPUT_DIM = len(LABEL.vocab)\n",
    "DROPOUT = 0.5\n",
    "PAD_IDX = TEXT.vocab.stoi[TEXT.pad_token]"
   ]
  },
  {
   "cell_type": "code",
   "execution_count": 11,
   "id": "a7896b24-a2d8-4ca0-9d5e-44225e2decc2",
   "metadata": {},
   "outputs": [],
   "source": [
    "model = CNN(INPUT_DIM, EMBEDDING_DIM, N_FILTERS, FILTER_SIZES, OUTPUT_DIM, DROPOUT, PAD_IDX)\n",
    "\n",
    "pretrained_embeddings = TEXT.vocab.vectors\n",
    "\n",
    "model.embedding.weight.data.copy_(pretrained_embeddings)\n",
    "\n",
    "UNK_IDX = TEXT.vocab.stoi[TEXT.unk_token]\n",
    "\n",
    "model.embedding.weight.data[UNK_IDX] = torch.zeros(EMBEDDING_DIM)\n",
    "model.embedding.weight.data[PAD_IDX] = torch.zeros(EMBEDDING_DIM)\n",
    "\n",
    "optimizer = optim.Adam(model.parameters())\n",
    "\n",
    "criterion = nn.CrossEntropyLoss()\n",
    "\n",
    "model = model.to(device)\n",
    "criterion = criterion.to(device)"
   ]
  },
  {
   "cell_type": "code",
   "execution_count": 12,
   "id": "1efed19e-30b8-4e3c-9bfc-1ae04fd71461",
   "metadata": {},
   "outputs": [
    {
     "data": {
      "text/plain": [
       "CNN(\n",
       "  (embedding): Embedding(15002, 50, padding_idx=1)\n",
       "  (convs): ModuleList(\n",
       "    (0): Conv2d(1, 150, kernel_size=(3, 50), stride=(1, 1))\n",
       "    (1): Conv2d(1, 150, kernel_size=(4, 50), stride=(1, 1))\n",
       "    (2): Conv2d(1, 150, kernel_size=(5, 50), stride=(1, 1))\n",
       "  )\n",
       "  (fc): Linear(in_features=450, out_features=12, bias=True)\n",
       "  (dropout): Dropout(p=0.5, inplace=False)\n",
       ")"
      ]
     },
     "execution_count": 12,
     "metadata": {},
     "output_type": "execute_result"
    }
   ],
   "source": [
    "model_path = 'kinn_model.pt'\n",
    "model.load_state_dict(torch.load(model_path, map_location=device))\n",
    "model.eval()"
   ]
  },
  {
   "cell_type": "code",
   "execution_count": 13,
   "id": "8779527e-2053-4f49-995a-09f34eb1df48",
   "metadata": {},
   "outputs": [
    {
     "name": "stdout",
     "output_type": "stream",
     "text": [
      "Test Loss: 3.049 | Test Acc: 21.90% | Test F1 Score: 0.232\n"
     ]
    }
   ],
   "source": [
    "from sklearn.metrics import f1_score\n",
    "\n",
    "# Evaluation function\n",
    "def evaluate(model, iterator, criterion):\n",
    "    epoch_loss = 0\n",
    "    epoch_acc = 0\n",
    "    all_preds = []\n",
    "    all_labels = []\n",
    "\n",
    "    model.eval()\n",
    "\n",
    "    with torch.no_grad():\n",
    "        for batch in iterator:\n",
    "            predictions = model(batch.content).squeeze(1)\n",
    "            loss = criterion(predictions, batch.label)\n",
    "            acc = (predictions.argmax(1) == batch.label).sum().item() / len(batch.label)\n",
    "\n",
    "            epoch_loss += loss.item()\n",
    "            epoch_acc += acc\n",
    "\n",
    "            all_preds.extend(predictions.argmax(1).cpu().numpy())\n",
    "            all_labels.extend(batch.label.cpu().numpy())\n",
    "\n",
    "    f1 = f1_score(all_labels, all_preds, average='weighted')\n",
    "\n",
    "    return epoch_loss / len(iterator), epoch_acc / len(iterator), f1\n",
    "\n",
    "# Evaluate the model\n",
    "test_loss, test_acc, test_f1 = evaluate(model, test_iterator, criterion)\n",
    "\n",
    "print(f'Test Loss: {test_loss:.3f} | Test Acc: {test_acc*100:.2f}% | Test F1 Score: {test_f1:.3f}')\n"
   ]
  },
  {
   "cell_type": "markdown",
   "id": "3d8a0087-8384-4ebd-a6df-b940461ca30d",
   "metadata": {},
   "source": [
    "## Kirundi - after fine tuning"
   ]
  },
  {
   "cell_type": "code",
   "execution_count": 87,
   "id": "5e73a7e6-bd34-40ac-96c5-e586c55c059e",
   "metadata": {},
   "outputs": [],
   "source": [
    "kir_embeddings = vocab.Vectors(name='W2V-Kir-50.txt',\n",
    "                                  cache='cache',\n",
    "                                  unk_init=torch.Tensor.normal_)"
   ]
  },
  {
   "cell_type": "code",
   "execution_count": 88,
   "id": "ef8e84be-f78a-4ce1-b09b-0824a4032ddb",
   "metadata": {},
   "outputs": [],
   "source": [
    "SEED = 1234\n",
    "torch.manual_seed(SEED)\n",
    "torch.cuda.manual_seed(SEED)\n",
    "torch.backends.cudnn.deterministic = True"
   ]
  },
  {
   "cell_type": "code",
   "execution_count": 89,
   "id": "e2829260-e2f5-4256-a6df-782fa26cd2b0",
   "metadata": {},
   "outputs": [],
   "source": [
    "# Define fields to hold the data using NLTK tokenizer\n",
    "LABEL = data.LabelField(dtype=torch.long, use_vocab=True)\n",
    "TITLE = data.Field(tokenize=word_tokenize)\n",
    "TEXT = data.Field(tokenize=word_tokenize)\n",
    "\n",
    "fields = [('label', LABEL), ('title', TITLE), ('content', TEXT)]"
   ]
  },
  {
   "cell_type": "code",
   "execution_count": 90,
   "id": "9597e7dc-528d-4ace-960d-37b2378fc9aa",
   "metadata": {},
   "outputs": [],
   "source": [
    "train_data, test_data = data.TabularDataset.splits(\n",
    "    path='cleaned',  # Change to the directory containing your CSV files\n",
    "    train='kir_train.csv',  # Change to your Kirundi train CSV file name\n",
    "    test='kir_test.csv',  # Change to your test CSV file name\n",
    "    format='csv',\n",
    "    fields=fields,\n",
    "    skip_header=True  # dataset has a header\n",
    ")"
   ]
  },
  {
   "cell_type": "code",
   "execution_count": 91,
   "id": "f64a563a-1981-4e5b-a768-807a6e841234",
   "metadata": {},
   "outputs": [],
   "source": [
    "train_data, valid_data = train_data.split(split_ratio=0.9, random_state=random.seed(SEED))"
   ]
  },
  {
   "cell_type": "code",
   "execution_count": 92,
   "id": "45bcceb5-db52-4471-a96d-a20f1ccb82d5",
   "metadata": {},
   "outputs": [],
   "source": [
    "TEXT.build_vocab(train_data, max_size=15000, vectors=kir_embeddings)\n",
    "TITLE.vocab = TEXT.vocab  # Sharing the same vocab between TITLE and TEXT fields\n",
    "LABEL.build_vocab(train_data)"
   ]
  },
  {
   "cell_type": "code",
   "execution_count": 93,
   "id": "0cea34fa-9df2-4ac9-8443-884bd987757c",
   "metadata": {},
   "outputs": [],
   "source": [
    "BATCH_SIZE = 32\n",
    "device = torch.device('mps' if torch.cuda.is_available() else 'cpu')\n",
    "\n",
    "train_iterator, valid_iterator, test_iterator = data.BucketIterator.splits(\n",
    "    (train_data, valid_data, test_data),\n",
    "    batch_size=BATCH_SIZE,\n",
    "    sort_key=lambda x: len(x.content),\n",
    "    device=device\n",
    ")"
   ]
  },
  {
   "cell_type": "code",
   "execution_count": 94,
   "id": "46f2eff0-680f-4409-824d-b8bb0339dedc",
   "metadata": {},
   "outputs": [],
   "source": [
    "# Build the model\n",
    "class CNN(nn.Module):\n",
    "    def __init__(self, vocab_size, embedding_dim, n_filters,\n",
    "                 filter_sizes, output_dim, dropout, pad_idx):\n",
    "        super().__init__()\n",
    "\n",
    "        self.embedding = nn.Embedding(vocab_size, embedding_dim, padding_idx=pad_idx)\n",
    "        self.convs = nn.ModuleList([\n",
    "            nn.Conv2d(in_channels=1,\n",
    "                      out_channels=n_filters,\n",
    "                      kernel_size=(fs, embedding_dim))\n",
    "            for fs in filter_sizes\n",
    "        ])\n",
    "        self.fc = nn.Linear(len(filter_sizes) * n_filters, output_dim)\n",
    "        self.dropout = nn.Dropout(dropout)\n",
    "\n",
    "    def forward(self, text):\n",
    "        text = text.permute(1, 0)\n",
    "        embedded = self.embedding(text)\n",
    "        embedded = embedded.unsqueeze(1)\n",
    "        conved = [F.relu(conv(embedded)).squeeze(3) for conv in self.convs]\n",
    "        pooled = [F.max_pool1d(conv, conv.shape[2]).squeeze(2) for conv in conved]\n",
    "        cat = self.dropout(torch.cat(pooled, dim=1))\n",
    "        return self.fc(cat)"
   ]
  },
  {
   "cell_type": "code",
   "execution_count": 95,
   "id": "e3e57dcc-5e3b-4a23-92f1-5c5d3c0bf3b4",
   "metadata": {},
   "outputs": [],
   "source": [
    "INPUT_DIM = len(TEXT.vocab)\n",
    "EMBEDDING_DIM = 50  # Updated to match the GloVe embeddings dimension\n",
    "N_FILTERS = 150\n",
    "FILTER_SIZES = [3, 4, 5]\n",
    "OUTPUT_DIM = len(LABEL.vocab)\n",
    "DROPOUT = 0.5\n",
    "PAD_IDX = TEXT.vocab.stoi[TEXT.pad_token]\n",
    "\n",
    "model = CNN(INPUT_DIM, EMBEDDING_DIM, N_FILTERS, FILTER_SIZES, OUTPUT_DIM, DROPOUT, PAD_IDX)"
   ]
  },
  {
   "cell_type": "code",
   "execution_count": 96,
   "id": "0ab6e9b9-e05c-466c-9edb-9d686ad800bd",
   "metadata": {},
   "outputs": [],
   "source": [
    "pretrained_embeddings = TEXT.vocab.vectors\n",
    "\n",
    "model.embedding.weight.data.copy_(pretrained_embeddings)\n",
    "\n",
    "UNK_IDX = TEXT.vocab.stoi[TEXT.unk_token]\n",
    "\n",
    "model.embedding.weight.data[UNK_IDX] = torch.zeros(EMBEDDING_DIM)\n",
    "model.embedding.weight.data[PAD_IDX] = torch.zeros(EMBEDDING_DIM)\n",
    "\n",
    "optimizer = optim.Adam(model.parameters(),lr=1e-5)\n",
    "\n",
    "criterion = nn.CrossEntropyLoss()\n",
    "\n",
    "model = model.to(device)\n",
    "criterion = criterion.to(device)"
   ]
  },
  {
   "cell_type": "code",
   "execution_count": 97,
   "id": "4cc3ad2f-aa59-478a-a8e5-210ad5d4f476",
   "metadata": {},
   "outputs": [
    {
     "data": {
      "text/plain": [
       "<All keys matched successfully>"
      ]
     },
     "execution_count": 97,
     "metadata": {},
     "output_type": "execute_result"
    }
   ],
   "source": [
    "model_path = 'kinn_model.pt'\n",
    "model.load_state_dict(torch.load(model_path, map_location=device))"
   ]
  },
  {
   "cell_type": "code",
   "execution_count": 102,
   "id": "a5170d6a-e308-45e1-b848-66d5aa6349b7",
   "metadata": {},
   "outputs": [
    {
     "name": "stdout",
     "output_type": "stream",
     "text": [
      "Epoch: 01, Train Loss: 1.883, Train Acc: 43.64%, Val. Loss: 2.010, Val. Acc: 39.34%\n",
      "Saved best model with validation loss: 2.010\n",
      "Epoch: 02, Train Loss: 1.881, Train Acc: 43.49%, Val. Loss: 1.997, Val. Acc: 39.60%\n",
      "Saved best model with validation loss: 1.997\n",
      "Epoch: 03, Train Loss: 1.857, Train Acc: 43.81%, Val. Loss: 1.983, Val. Acc: 39.86%\n",
      "Saved best model with validation loss: 1.983\n",
      "Epoch: 04, Train Loss: 1.855, Train Acc: 45.02%, Val. Loss: 1.970, Val. Acc: 39.86%\n",
      "Saved best model with validation loss: 1.970\n",
      "Epoch: 05, Train Loss: 1.839, Train Acc: 45.42%, Val. Loss: 1.958, Val. Acc: 40.64%\n",
      "Saved best model with validation loss: 1.958\n",
      "Epoch: 06, Train Loss: 1.815, Train Acc: 44.67%, Val. Loss: 1.944, Val. Acc: 40.64%\n",
      "Saved best model with validation loss: 1.944\n",
      "Epoch: 07, Train Loss: 1.837, Train Acc: 43.33%, Val. Loss: 1.931, Val. Acc: 40.90%\n",
      "Saved best model with validation loss: 1.931\n",
      "Epoch: 08, Train Loss: 1.774, Train Acc: 45.21%, Val. Loss: 1.919, Val. Acc: 40.90%\n",
      "Saved best model with validation loss: 1.919\n",
      "Epoch: 09, Train Loss: 1.761, Train Acc: 46.28%, Val. Loss: 1.907, Val. Acc: 40.90%\n",
      "Saved best model with validation loss: 1.907\n",
      "Epoch: 10, Train Loss: 1.749, Train Acc: 47.31%, Val. Loss: 1.895, Val. Acc: 41.42%\n",
      "Saved best model with validation loss: 1.895\n",
      "Epoch: 11, Train Loss: 1.735, Train Acc: 46.81%, Val. Loss: 1.883, Val. Acc: 41.42%\n",
      "Saved best model with validation loss: 1.883\n",
      "Epoch: 12, Train Loss: 1.721, Train Acc: 47.48%, Val. Loss: 1.870, Val. Acc: 41.68%\n",
      "Saved best model with validation loss: 1.870\n",
      "Epoch: 13, Train Loss: 1.710, Train Acc: 47.68%, Val. Loss: 1.858, Val. Acc: 42.20%\n",
      "Saved best model with validation loss: 1.858\n",
      "Epoch: 14, Train Loss: 1.698, Train Acc: 47.25%, Val. Loss: 1.847, Val. Acc: 42.20%\n",
      "Saved best model with validation loss: 1.847\n",
      "Epoch: 15, Train Loss: 1.698, Train Acc: 47.41%, Val. Loss: 1.837, Val. Acc: 42.20%\n",
      "Saved best model with validation loss: 1.837\n",
      "Epoch: 16, Train Loss: 1.668, Train Acc: 49.00%, Val. Loss: 1.825, Val. Acc: 42.20%\n",
      "Saved best model with validation loss: 1.825\n",
      "Epoch: 17, Train Loss: 1.659, Train Acc: 48.91%, Val. Loss: 1.815, Val. Acc: 42.20%\n",
      "Saved best model with validation loss: 1.815\n",
      "Epoch: 18, Train Loss: 1.653, Train Acc: 48.55%, Val. Loss: 1.804, Val. Acc: 42.20%\n",
      "Saved best model with validation loss: 1.804\n",
      "Epoch: 19, Train Loss: 1.620, Train Acc: 49.40%, Val. Loss: 1.793, Val. Acc: 42.46%\n",
      "Saved best model with validation loss: 1.793\n",
      "Epoch: 20, Train Loss: 1.597, Train Acc: 50.35%, Val. Loss: 1.783, Val. Acc: 42.98%\n",
      "Saved best model with validation loss: 1.783\n",
      "Epoch: 21, Train Loss: 1.618, Train Acc: 49.28%, Val. Loss: 1.773, Val. Acc: 43.24%\n",
      "Saved best model with validation loss: 1.773\n",
      "Epoch: 22, Train Loss: 1.587, Train Acc: 50.24%, Val. Loss: 1.762, Val. Acc: 43.24%\n",
      "Saved best model with validation loss: 1.762\n",
      "Epoch: 23, Train Loss: 1.574, Train Acc: 51.44%, Val. Loss: 1.751, Val. Acc: 43.50%\n",
      "Saved best model with validation loss: 1.751\n",
      "Epoch: 24, Train Loss: 1.580, Train Acc: 50.76%, Val. Loss: 1.742, Val. Acc: 44.03%\n",
      "Saved best model with validation loss: 1.742\n",
      "Epoch: 25, Train Loss: 1.538, Train Acc: 52.25%, Val. Loss: 1.732, Val. Acc: 44.29%\n",
      "Saved best model with validation loss: 1.732\n",
      "Epoch: 26, Train Loss: 1.557, Train Acc: 51.98%, Val. Loss: 1.721, Val. Acc: 45.33%\n",
      "Saved best model with validation loss: 1.721\n",
      "Epoch: 27, Train Loss: 1.522, Train Acc: 51.63%, Val. Loss: 1.713, Val. Acc: 45.59%\n",
      "Saved best model with validation loss: 1.713\n",
      "Epoch: 28, Train Loss: 1.525, Train Acc: 51.20%, Val. Loss: 1.702, Val. Acc: 45.85%\n",
      "Saved best model with validation loss: 1.702\n",
      "Epoch: 29, Train Loss: 1.488, Train Acc: 53.03%, Val. Loss: 1.692, Val. Acc: 46.11%\n",
      "Saved best model with validation loss: 1.692\n",
      "Epoch: 30, Train Loss: 1.478, Train Acc: 53.72%, Val. Loss: 1.684, Val. Acc: 46.11%\n",
      "Saved best model with validation loss: 1.684\n",
      "Epoch: 31, Train Loss: 1.476, Train Acc: 53.45%, Val. Loss: 1.675, Val. Acc: 46.11%\n",
      "Saved best model with validation loss: 1.675\n",
      "Epoch: 32, Train Loss: 1.476, Train Acc: 52.61%, Val. Loss: 1.666, Val. Acc: 46.37%\n",
      "Saved best model with validation loss: 1.666\n",
      "Epoch: 33, Train Loss: 1.458, Train Acc: 53.67%, Val. Loss: 1.656, Val. Acc: 46.37%\n",
      "Saved best model with validation loss: 1.656\n",
      "Epoch: 34, Train Loss: 1.443, Train Acc: 53.93%, Val. Loss: 1.646, Val. Acc: 46.89%\n",
      "Saved best model with validation loss: 1.646\n",
      "Epoch: 35, Train Loss: 1.461, Train Acc: 54.16%, Val. Loss: 1.639, Val. Acc: 46.89%\n",
      "Saved best model with validation loss: 1.639\n",
      "Epoch: 36, Train Loss: 1.435, Train Acc: 53.75%, Val. Loss: 1.630, Val. Acc: 47.15%\n",
      "Saved best model with validation loss: 1.630\n",
      "Epoch: 37, Train Loss: 1.432, Train Acc: 54.14%, Val. Loss: 1.622, Val. Acc: 47.15%\n",
      "Saved best model with validation loss: 1.622\n",
      "Epoch: 38, Train Loss: 1.432, Train Acc: 54.51%, Val. Loss: 1.613, Val. Acc: 47.15%\n",
      "Saved best model with validation loss: 1.613\n",
      "Epoch: 39, Train Loss: 1.395, Train Acc: 55.70%, Val. Loss: 1.604, Val. Acc: 48.19%\n",
      "Saved best model with validation loss: 1.604\n",
      "Epoch: 40, Train Loss: 1.410, Train Acc: 55.26%, Val. Loss: 1.596, Val. Acc: 48.19%\n",
      "Saved best model with validation loss: 1.596\n",
      "Epoch: 41, Train Loss: 1.373, Train Acc: 55.41%, Val. Loss: 1.588, Val. Acc: 48.19%\n",
      "Saved best model with validation loss: 1.588\n",
      "Epoch: 42, Train Loss: 1.389, Train Acc: 55.71%, Val. Loss: 1.580, Val. Acc: 48.71%\n",
      "Saved best model with validation loss: 1.580\n",
      "Epoch: 43, Train Loss: 1.368, Train Acc: 56.47%, Val. Loss: 1.573, Val. Acc: 48.71%\n",
      "Saved best model with validation loss: 1.573\n",
      "Epoch: 44, Train Loss: 1.371, Train Acc: 55.65%, Val. Loss: 1.565, Val. Acc: 48.71%\n",
      "Saved best model with validation loss: 1.565\n",
      "Epoch: 45, Train Loss: 1.340, Train Acc: 56.09%, Val. Loss: 1.557, Val. Acc: 48.97%\n",
      "Saved best model with validation loss: 1.557\n",
      "Epoch: 46, Train Loss: 1.358, Train Acc: 57.27%, Val. Loss: 1.548, Val. Acc: 48.97%\n",
      "Saved best model with validation loss: 1.548\n",
      "Epoch: 47, Train Loss: 1.319, Train Acc: 57.61%, Val. Loss: 1.541, Val. Acc: 49.75%\n",
      "Saved best model with validation loss: 1.541\n",
      "Epoch: 48, Train Loss: 1.313, Train Acc: 57.94%, Val. Loss: 1.533, Val. Acc: 49.75%\n",
      "Saved best model with validation loss: 1.533\n",
      "Epoch: 49, Train Loss: 1.297, Train Acc: 57.94%, Val. Loss: 1.526, Val. Acc: 50.28%\n",
      "Saved best model with validation loss: 1.526\n",
      "Epoch: 50, Train Loss: 1.297, Train Acc: 58.49%, Val. Loss: 1.518, Val. Acc: 50.28%\n",
      "Saved best model with validation loss: 1.518\n",
      "Epoch: 51, Train Loss: 1.294, Train Acc: 58.41%, Val. Loss: 1.511, Val. Acc: 50.80%\n",
      "Saved best model with validation loss: 1.511\n",
      "Epoch: 52, Train Loss: 1.290, Train Acc: 58.30%, Val. Loss: 1.504, Val. Acc: 51.06%\n",
      "Saved best model with validation loss: 1.504\n",
      "Epoch: 53, Train Loss: 1.293, Train Acc: 58.90%, Val. Loss: 1.497, Val. Acc: 51.06%\n",
      "Saved best model with validation loss: 1.497\n",
      "Epoch: 54, Train Loss: 1.254, Train Acc: 59.62%, Val. Loss: 1.490, Val. Acc: 51.06%\n",
      "Saved best model with validation loss: 1.490\n",
      "Epoch: 55, Train Loss: 1.267, Train Acc: 59.53%, Val. Loss: 1.483, Val. Acc: 51.06%\n",
      "Saved best model with validation loss: 1.483\n",
      "Epoch: 56, Train Loss: 1.244, Train Acc: 60.84%, Val. Loss: 1.476, Val. Acc: 51.32%\n",
      "Saved best model with validation loss: 1.476\n",
      "Epoch: 57, Train Loss: 1.255, Train Acc: 59.55%, Val. Loss: 1.469, Val. Acc: 51.32%\n",
      "Saved best model with validation loss: 1.469\n",
      "Epoch: 58, Train Loss: 1.224, Train Acc: 60.22%, Val. Loss: 1.463, Val. Acc: 51.84%\n",
      "Saved best model with validation loss: 1.463\n",
      "Epoch: 59, Train Loss: 1.237, Train Acc: 60.06%, Val. Loss: 1.456, Val. Acc: 52.10%\n",
      "Saved best model with validation loss: 1.456\n",
      "Epoch: 60, Train Loss: 1.216, Train Acc: 60.57%, Val. Loss: 1.450, Val. Acc: 52.10%\n",
      "Saved best model with validation loss: 1.450\n",
      "Epoch: 61, Train Loss: 1.215, Train Acc: 61.33%, Val. Loss: 1.443, Val. Acc: 52.36%\n",
      "Saved best model with validation loss: 1.443\n",
      "Epoch: 62, Train Loss: 1.207, Train Acc: 60.46%, Val. Loss: 1.436, Val. Acc: 52.62%\n",
      "Saved best model with validation loss: 1.436\n",
      "Epoch: 63, Train Loss: 1.197, Train Acc: 60.84%, Val. Loss: 1.431, Val. Acc: 52.62%\n",
      "Saved best model with validation loss: 1.431\n",
      "Epoch: 64, Train Loss: 1.188, Train Acc: 60.88%, Val. Loss: 1.424, Val. Acc: 52.88%\n",
      "Saved best model with validation loss: 1.424\n",
      "Epoch: 65, Train Loss: 1.193, Train Acc: 61.52%, Val. Loss: 1.418, Val. Acc: 53.40%\n",
      "Saved best model with validation loss: 1.418\n",
      "Epoch: 66, Train Loss: 1.191, Train Acc: 61.68%, Val. Loss: 1.411, Val. Acc: 53.66%\n",
      "Saved best model with validation loss: 1.411\n",
      "Epoch: 67, Train Loss: 1.175, Train Acc: 63.10%, Val. Loss: 1.407, Val. Acc: 53.92%\n",
      "Saved best model with validation loss: 1.407\n",
      "Epoch: 68, Train Loss: 1.165, Train Acc: 61.66%, Val. Loss: 1.400, Val. Acc: 53.92%\n",
      "Saved best model with validation loss: 1.400\n",
      "Epoch: 69, Train Loss: 1.154, Train Acc: 61.88%, Val. Loss: 1.394, Val. Acc: 54.18%\n",
      "Saved best model with validation loss: 1.394\n",
      "Epoch: 70, Train Loss: 1.156, Train Acc: 63.52%, Val. Loss: 1.389, Val. Acc: 54.18%\n",
      "Saved best model with validation loss: 1.389\n",
      "Epoch: 71, Train Loss: 1.153, Train Acc: 61.83%, Val. Loss: 1.383, Val. Acc: 54.70%\n",
      "Saved best model with validation loss: 1.383\n",
      "Epoch: 72, Train Loss: 1.124, Train Acc: 63.51%, Val. Loss: 1.377, Val. Acc: 54.70%\n",
      "Saved best model with validation loss: 1.377\n",
      "Epoch: 73, Train Loss: 1.116, Train Acc: 63.48%, Val. Loss: 1.372, Val. Acc: 54.96%\n",
      "Saved best model with validation loss: 1.372\n",
      "Epoch: 74, Train Loss: 1.129, Train Acc: 64.25%, Val. Loss: 1.366, Val. Acc: 55.74%\n",
      "Saved best model with validation loss: 1.366\n",
      "Epoch: 75, Train Loss: 1.113, Train Acc: 64.28%, Val. Loss: 1.361, Val. Acc: 55.74%\n",
      "Saved best model with validation loss: 1.361\n",
      "Epoch: 76, Train Loss: 1.119, Train Acc: 63.82%, Val. Loss: 1.355, Val. Acc: 56.53%\n",
      "Saved best model with validation loss: 1.355\n",
      "Epoch: 77, Train Loss: 1.088, Train Acc: 64.83%, Val. Loss: 1.351, Val. Acc: 56.53%\n",
      "Saved best model with validation loss: 1.351\n",
      "Epoch: 78, Train Loss: 1.110, Train Acc: 63.98%, Val. Loss: 1.345, Val. Acc: 56.53%\n",
      "Saved best model with validation loss: 1.345\n",
      "Epoch: 79, Train Loss: 1.075, Train Acc: 64.45%, Val. Loss: 1.338, Val. Acc: 56.53%\n",
      "Saved best model with validation loss: 1.338\n",
      "Epoch: 80, Train Loss: 1.084, Train Acc: 64.05%, Val. Loss: 1.333, Val. Acc: 56.79%\n",
      "Saved best model with validation loss: 1.333\n",
      "Epoch: 81, Train Loss: 1.060, Train Acc: 64.99%, Val. Loss: 1.329, Val. Acc: 56.79%\n",
      "Saved best model with validation loss: 1.329\n",
      "Epoch: 82, Train Loss: 1.064, Train Acc: 64.38%, Val. Loss: 1.323, Val. Acc: 57.05%\n",
      "Saved best model with validation loss: 1.323\n",
      "Epoch: 83, Train Loss: 1.073, Train Acc: 65.19%, Val. Loss: 1.318, Val. Acc: 57.05%\n",
      "Saved best model with validation loss: 1.318\n",
      "Epoch: 84, Train Loss: 1.039, Train Acc: 66.00%, Val. Loss: 1.312, Val. Acc: 57.31%\n",
      "Saved best model with validation loss: 1.312\n",
      "Epoch: 85, Train Loss: 1.051, Train Acc: 65.51%, Val. Loss: 1.305, Val. Acc: 57.31%\n",
      "Saved best model with validation loss: 1.305\n",
      "Epoch: 86, Train Loss: 1.049, Train Acc: 65.56%, Val. Loss: 1.301, Val. Acc: 57.31%\n",
      "Saved best model with validation loss: 1.301\n",
      "Epoch: 87, Train Loss: 1.038, Train Acc: 65.91%, Val. Loss: 1.295, Val. Acc: 57.31%\n",
      "Saved best model with validation loss: 1.295\n",
      "Epoch: 88, Train Loss: 1.048, Train Acc: 66.10%, Val. Loss: 1.291, Val. Acc: 57.31%\n",
      "Saved best model with validation loss: 1.291\n",
      "Epoch: 89, Train Loss: 1.025, Train Acc: 66.64%, Val. Loss: 1.286, Val. Acc: 57.57%\n",
      "Saved best model with validation loss: 1.286\n",
      "Epoch: 90, Train Loss: 1.017, Train Acc: 66.51%, Val. Loss: 1.281, Val. Acc: 57.83%\n",
      "Saved best model with validation loss: 1.281\n",
      "Epoch: 91, Train Loss: 1.014, Train Acc: 67.40%, Val. Loss: 1.276, Val. Acc: 58.09%\n",
      "Saved best model with validation loss: 1.276\n",
      "Epoch: 92, Train Loss: 1.017, Train Acc: 67.43%, Val. Loss: 1.272, Val. Acc: 58.35%\n",
      "Saved best model with validation loss: 1.272\n",
      "Epoch: 93, Train Loss: 1.011, Train Acc: 67.89%, Val. Loss: 1.268, Val. Acc: 58.35%\n",
      "Saved best model with validation loss: 1.268\n",
      "Epoch: 94, Train Loss: 0.983, Train Acc: 66.79%, Val. Loss: 1.264, Val. Acc: 58.35%\n",
      "Saved best model with validation loss: 1.264\n",
      "Epoch: 95, Train Loss: 0.973, Train Acc: 68.19%, Val. Loss: 1.259, Val. Acc: 58.87%\n",
      "Saved best model with validation loss: 1.259\n",
      "Epoch: 96, Train Loss: 0.987, Train Acc: 67.97%, Val. Loss: 1.254, Val. Acc: 58.87%\n",
      "Saved best model with validation loss: 1.254\n",
      "Epoch: 97, Train Loss: 0.986, Train Acc: 66.92%, Val. Loss: 1.250, Val. Acc: 58.87%\n",
      "Saved best model with validation loss: 1.250\n",
      "Epoch: 98, Train Loss: 0.977, Train Acc: 67.94%, Val. Loss: 1.245, Val. Acc: 58.87%\n",
      "Saved best model with validation loss: 1.245\n",
      "Epoch: 99, Train Loss: 0.975, Train Acc: 67.69%, Val. Loss: 1.240, Val. Acc: 59.13%\n",
      "Saved best model with validation loss: 1.240\n",
      "Epoch: 100, Train Loss: 0.965, Train Acc: 68.15%, Val. Loss: 1.236, Val. Acc: 59.13%\n",
      "Saved best model with validation loss: 1.236\n"
     ]
    }
   ],
   "source": [
    "# Fine-tuning the model on Kirundi training data\n",
    "N_EPOCHS = 100\n",
    "\n",
    "# Initialize variables to track the best model\n",
    "best_valid_loss = float('inf')\n",
    "model_path = 'Cnn_tuned_model.pt'\n",
    "\n",
    "def train(model, iterator, optimizer, criterion):\n",
    "    epoch_loss = 0\n",
    "    epoch_acc = 0\n",
    "\n",
    "    model.train()\n",
    "\n",
    "    for batch in iterator:\n",
    "        optimizer.zero_grad()\n",
    "        predictions = model(batch.content).squeeze(1)\n",
    "        loss = criterion(predictions, batch.label.long())  # Convert batch.label to LongTensor\n",
    "        acc = (predictions.argmax(1) == batch.label.long()).sum().item() / len(batch.label)\n",
    "        loss.backward()\n",
    "        optimizer.step()\n",
    "        epoch_loss += loss.item()\n",
    "        epoch_acc += acc\n",
    "\n",
    "    return epoch_loss / len(iterator), epoch_acc / len(iterator)\n",
    "\n",
    "def evaluate(model, iterator, criterion):\n",
    "    epoch_loss = 0\n",
    "    epoch_acc = 0\n",
    "\n",
    "    model.eval()\n",
    "\n",
    "    with torch.no_grad():\n",
    "        for batch in iterator:\n",
    "            predictions = model(batch.content).squeeze(1)\n",
    "            loss = criterion(predictions, batch.label.long())  # Convert batch.label to LongTensor\n",
    "            acc = (predictions.argmax(1) == batch.label.long()).sum().item() / len(batch.label)\n",
    "            \n",
    "            epoch_loss += loss.item()\n",
    "            epoch_acc += acc\n",
    "\n",
    "    return epoch_loss / len(iterator), epoch_acc / len(iterator)\n",
    "\n",
    "# Training loop with validation and checkpointing\n",
    "for epoch in range(N_EPOCHS):\n",
    "    train_loss, train_acc = train(model, train_iterator, optimizer, criterion)\n",
    "    valid_loss, valid_acc = evaluate(model, valid_iterator, criterion)\n",
    "    \n",
    "    print(f'Epoch: {epoch+1:02}, Train Loss: {train_loss:.3f}, Train Acc: {train_acc*100:.2f}%, Val. Loss: {valid_loss:.3f}, Val. Acc: {valid_acc*100:.2f}%')\n",
    "    \n",
    "    # Save the model if the validation loss improves\n",
    "    if valid_loss < best_valid_loss:\n",
    "        best_valid_loss = valid_loss\n",
    "        torch.save(model.state_dict(), model_path)\n",
    "        print(f'Saved best model with validation loss: {best_valid_loss:.3f}')\n"
   ]
  },
  {
   "cell_type": "code",
   "execution_count": 71,
   "id": "996b08c3-4e44-4f48-9e5f-ed030955206f",
   "metadata": {},
   "outputs": [],
   "source": [
    "torch.save(model.state_dict(), 'Cnn_tuned_model.pt')"
   ]
  },
  {
   "cell_type": "code",
   "execution_count": 103,
   "id": "24bdefe3-5522-4bd3-a9d1-48e2c8891f48",
   "metadata": {},
   "outputs": [
    {
     "data": {
      "text/plain": [
       "CNN(\n",
       "  (embedding): Embedding(15002, 50, padding_idx=1)\n",
       "  (convs): ModuleList(\n",
       "    (0): Conv2d(1, 150, kernel_size=(3, 50), stride=(1, 1))\n",
       "    (1): Conv2d(1, 150, kernel_size=(4, 50), stride=(1, 1))\n",
       "    (2): Conv2d(1, 150, kernel_size=(5, 50), stride=(1, 1))\n",
       "  )\n",
       "  (fc): Linear(in_features=450, out_features=12, bias=True)\n",
       "  (dropout): Dropout(p=0.5, inplace=False)\n",
       ")"
      ]
     },
     "execution_count": 103,
     "metadata": {},
     "output_type": "execute_result"
    }
   ],
   "source": [
    "model.eval()"
   ]
  },
  {
   "cell_type": "code",
   "execution_count": 104,
   "id": "cc223720-dafb-42e0-b36f-4fe9589a74dc",
   "metadata": {},
   "outputs": [
    {
     "name": "stdout",
     "output_type": "stream",
     "text": [
      "Test Loss: 1.074 | Test Acc: 65.92% | Test F1 Score: 0.628\n"
     ]
    }
   ],
   "source": [
    "from sklearn.metrics import f1_score\n",
    "\n",
    "def evaluate(model, iterator, criterion):\n",
    "    epoch_loss = 0\n",
    "    epoch_acc = 0\n",
    "    all_preds = []\n",
    "    all_labels = []\n",
    "\n",
    "    model.eval()\n",
    "\n",
    "    with torch.no_grad():\n",
    "        for batch in iterator:\n",
    "            predictions = model(batch.content).squeeze(1)\n",
    "            loss = criterion(predictions, batch.label)\n",
    "            acc = (predictions.argmax(1) == batch.label).sum().item() / len(batch.label)\n",
    "\n",
    "            epoch_loss += loss.item()\n",
    "            epoch_acc += acc\n",
    "\n",
    "            all_preds.extend(predictions.argmax(1).cpu().numpy())\n",
    "            all_labels.extend(batch.label.cpu().numpy())\n",
    "\n",
    "    f1 = f1_score(all_labels, all_preds, average='weighted')\n",
    "\n",
    "    return epoch_loss / len(iterator), epoch_acc / len(iterator), f1\n",
    "\n",
    "test_loss, test_acc, test_f1 = evaluate(model, test_iterator, criterion)\n",
    "\n",
    "print(f'Test Loss: {test_loss:.3f} | Test Acc: {test_acc*100:.2f}% | Test F1 Score: {test_f1:.3f}')\n"
   ]
  },
  {
   "cell_type": "markdown",
   "id": "87c69960-91f0-4bc5-b443-6b16b07a8819",
   "metadata": {},
   "source": [
    "## Evaluating forgetting on Kinyarwanda"
   ]
  },
  {
   "cell_type": "code",
   "execution_count": 105,
   "id": "f739a500-14aa-4d8a-852c-63a03c4a2e44",
   "metadata": {},
   "outputs": [],
   "source": [
    "custom_embeddings = vocab.Vectors(name='W2V-Kin-50.txt',\n",
    "                                  cache='cache',\n",
    "                                  unk_init=torch.Tensor.normal_)"
   ]
  },
  {
   "cell_type": "code",
   "execution_count": 106,
   "id": "975db8ea-83f7-4041-a250-40f781e62465",
   "metadata": {},
   "outputs": [],
   "source": [
    "SEED = 1234\n",
    "torch.manual_seed(SEED)\n",
    "torch.cuda.manual_seed(SEED)\n",
    "torch.backends.cudnn.deterministic = True\n",
    "\n",
    "# Define fields to hold the data using NLTK tokenizer\n",
    "LABEL = data.LabelField(dtype=torch.long, use_vocab=True)\n",
    "TITLE = data.Field(tokenize=word_tokenize)\n",
    "TEXT = data.Field(tokenize=word_tokenize)\n",
    "\n",
    "fields = [('label', LABEL), ('title', TITLE), ('content', TEXT)]"
   ]
  },
  {
   "cell_type": "code",
   "execution_count": 107,
   "id": "fb4d1d89-3a07-4e85-b68e-10490ccae002",
   "metadata": {},
   "outputs": [],
   "source": [
    "train_data, test_data = data.TabularDataset.splits(\n",
    "    path='cleaned',\n",
    "    train='train.csv', \n",
    "    test='test.csv',\n",
    "    format='csv',\n",
    "    fields=fields,\n",
    "    skip_header=True  # dataset has a header(title)\n",
    ")"
   ]
  },
  {
   "cell_type": "code",
   "execution_count": 108,
   "id": "1c1379b0-e63f-4dbd-81d9-dd79bd98c963",
   "metadata": {},
   "outputs": [],
   "source": [
    "TEXT.build_vocab(train_data, max_size=15000, vectors=custom_embeddings)\n",
    "TITLE.vocab = TEXT.vocab  # Sharing the same vocab between TITLE and TEXT fields\n",
    "LABEL.build_vocab(train_data)"
   ]
  },
  {
   "cell_type": "code",
   "execution_count": 109,
   "id": "7747fc88-fb0d-42ad-bab2-fca0e175af27",
   "metadata": {},
   "outputs": [],
   "source": [
    "BATCH_SIZE = 32\n",
    "device = torch.device('mps' if torch.cuda.is_available() else 'cpu')\n",
    "\n",
    "train_iterator, test_iterator = data.BucketIterator.splits(\n",
    "    (train_data, test_data),\n",
    "    batch_size=BATCH_SIZE,\n",
    "    sort_key=lambda x: len(x.content),\n",
    "    device=device\n",
    ")"
   ]
  },
  {
   "cell_type": "code",
   "execution_count": 110,
   "id": "9fcd37c3-56e7-4ead-932f-7484db1ad700",
   "metadata": {},
   "outputs": [],
   "source": [
    "# Build the model\n",
    "class CNN(nn.Module):\n",
    "    def __init__(self, vocab_size, embedding_dim, n_filters,\n",
    "                 filter_sizes, output_dim, dropout, pad_idx):\n",
    "        super().__init__()\n",
    "\n",
    "        self.embedding = nn.Embedding(vocab_size, embedding_dim, padding_idx=pad_idx)\n",
    "        self.convs = nn.ModuleList([\n",
    "            nn.Conv2d(in_channels=1,\n",
    "                      out_channels=n_filters,\n",
    "                      kernel_size=(fs, embedding_dim))\n",
    "            for fs in filter_sizes\n",
    "        ])\n",
    "        self.fc = nn.Linear(len(filter_sizes) * n_filters, output_dim)\n",
    "        self.dropout = nn.Dropout(dropout)\n",
    "\n",
    "    def forward(self, text):\n",
    "        text = text.permute(1, 0)\n",
    "        embedded = self.embedding(text)\n",
    "        embedded = embedded.unsqueeze(1)\n",
    "        conved = [F.relu(conv(embedded)).squeeze(3) for conv in self.convs]\n",
    "        pooled = [F.max_pool1d(conv, conv.shape[2]).squeeze(2) for conv in conved]\n",
    "        cat = self.dropout(torch.cat(pooled, dim=1))\n",
    "        return self.fc(cat)"
   ]
  },
  {
   "cell_type": "code",
   "execution_count": 111,
   "id": "79887293-44c6-4eb7-ad71-dec81e34392a",
   "metadata": {},
   "outputs": [],
   "source": [
    "INPUT_DIM = len(TEXT.vocab)\n",
    "EMBEDDING_DIM = 50  # Updated to match the GloVe embeddings dimension\n",
    "N_FILTERS = 150\n",
    "FILTER_SIZES = [3, 4, 5]\n",
    "OUTPUT_DIM = len(LABEL.vocab)\n",
    "DROPOUT = 0.5\n",
    "PAD_IDX = TEXT.vocab.stoi[TEXT.pad_token]\n",
    "\n",
    "model = CNN(INPUT_DIM, EMBEDDING_DIM, N_FILTERS, FILTER_SIZES, OUTPUT_DIM, DROPOUT, PAD_IDX)"
   ]
  },
  {
   "cell_type": "code",
   "execution_count": 112,
   "id": "5cd250df-f520-4194-82a2-7fa70eb6a67e",
   "metadata": {},
   "outputs": [],
   "source": [
    "pretrained_embeddings = TEXT.vocab.vectors\n",
    "\n",
    "model.embedding.weight.data.copy_(pretrained_embeddings)\n",
    "\n",
    "UNK_IDX = TEXT.vocab.stoi[TEXT.unk_token]\n",
    "\n",
    "model.embedding.weight.data[UNK_IDX] = torch.zeros(EMBEDDING_DIM)\n",
    "model.embedding.weight.data[PAD_IDX] = torch.zeros(EMBEDDING_DIM)\n",
    "\n",
    "optimizer = optim.Adam(model.parameters())\n",
    "\n",
    "criterion = nn.CrossEntropyLoss()\n",
    "\n",
    "model = model.to(device)\n",
    "criterion = criterion.to(device)"
   ]
  },
  {
   "cell_type": "code",
   "execution_count": 113,
   "id": "8896b51b-879f-4146-932f-c40b05e5fb71",
   "metadata": {},
   "outputs": [
    {
     "data": {
      "text/plain": [
       "CNN(\n",
       "  (embedding): Embedding(15002, 50, padding_idx=1)\n",
       "  (convs): ModuleList(\n",
       "    (0): Conv2d(1, 150, kernel_size=(3, 50), stride=(1, 1))\n",
       "    (1): Conv2d(1, 150, kernel_size=(4, 50), stride=(1, 1))\n",
       "    (2): Conv2d(1, 150, kernel_size=(5, 50), stride=(1, 1))\n",
       "  )\n",
       "  (fc): Linear(in_features=450, out_features=12, bias=True)\n",
       "  (dropout): Dropout(p=0.5, inplace=False)\n",
       ")"
      ]
     },
     "execution_count": 113,
     "metadata": {},
     "output_type": "execute_result"
    }
   ],
   "source": [
    "model_path = 'Cnn_tuned_model.pt'\n",
    "model.load_state_dict(torch.load(model_path, map_location=device))\n",
    "model.eval()"
   ]
  },
  {
   "cell_type": "code",
   "execution_count": 114,
   "id": "3cbf051b-5624-4bd8-855d-6e6c5775b90d",
   "metadata": {},
   "outputs": [
    {
     "name": "stdout",
     "output_type": "stream",
     "text": [
      "Test Loss: 2.697 | Test Acc: 22.07% | Test F1 Score: 0.177\n"
     ]
    }
   ],
   "source": [
    "from sklearn.metrics import f1_score\n",
    "\n",
    "def evaluate(model, iterator, criterion):\n",
    "    epoch_loss = 0\n",
    "    epoch_acc = 0\n",
    "    all_preds = []\n",
    "    all_labels = []\n",
    "\n",
    "    model.eval()\n",
    "\n",
    "    with torch.no_grad():\n",
    "        for batch in iterator:\n",
    "            predictions = model(batch.content).squeeze(1)\n",
    "            loss = criterion(predictions, batch.label)\n",
    "            acc = (predictions.argmax(1) == batch.label).sum().item() / len(batch.label)\n",
    "\n",
    "            epoch_loss += loss.item()\n",
    "            epoch_acc += acc\n",
    "\n",
    "            all_preds.extend(predictions.argmax(1).cpu().numpy())\n",
    "            all_labels.extend(batch.label.cpu().numpy())\n",
    "\n",
    "    f1 = f1_score(all_labels, all_preds, average='weighted')\n",
    "\n",
    "    return epoch_loss / len(iterator), epoch_acc / len(iterator), f1\n",
    "\n",
    "test_loss, test_acc, test_f1 = evaluate(model, test_iterator, criterion)\n",
    "\n",
    "print(f'Test Loss: {test_loss:.3f} | Test Acc: {test_acc*100:.2f}% | Test F1 Score: {test_f1:.3f}')\n"
   ]
  },
  {
   "cell_type": "code",
   "execution_count": null,
   "id": "48032547-8a77-468a-88ba-789d2a9ab987",
   "metadata": {},
   "outputs": [],
   "source": []
  }
 ],
 "metadata": {
  "kernelspec": {
   "display_name": "Python 3 (ipykernel)",
   "language": "python",
   "name": "python3"
  },
  "language_info": {
   "codemirror_mode": {
    "name": "ipython",
    "version": 3
   },
   "file_extension": ".py",
   "mimetype": "text/x-python",
   "name": "python",
   "nbconvert_exporter": "python",
   "pygments_lexer": "ipython3",
   "version": "3.11.9"
  }
 },
 "nbformat": 4,
 "nbformat_minor": 5
}
