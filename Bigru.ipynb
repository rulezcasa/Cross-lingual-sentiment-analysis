{
 "cells": [
  {
   "cell_type": "code",
   "execution_count": 3,
   "id": "91b354e3-dd73-4dc7-8183-75dad1f5f753",
   "metadata": {},
   "outputs": [],
   "source": [
    "import torch\n",
    "from torchtext import data\n",
    "import random\n",
    "import torch.nn as nn\n",
    "import torch.optim as optim\n",
    "import torchtext.vocab as vocab\n",
    "import torch.nn.functional as F\n",
    "import nltk\n",
    "from nltk.tokenize import word_tokenize"
   ]
  },
  {
   "cell_type": "code",
   "execution_count": 8,
   "id": "a9be1f98-6fdf-4542-8934-a72a2f529ec1",
   "metadata": {},
   "outputs": [],
   "source": [
    "custom_embeddings = vocab.Vectors(name='W2V-Kin-50.txt',\n",
    "                                  cache='cache',\n",
    "                                  unk_init=torch.Tensor.normal_)"
   ]
  },
  {
   "cell_type": "code",
   "execution_count": 4,
   "id": "523f48b7-0964-473f-b71b-b959a05c66d5",
   "metadata": {},
   "outputs": [],
   "source": [
    "SEED = 1234\n",
    "torch.manual_seed(SEED)\n",
    "torch.cuda.manual_seed(SEED)\n",
    "torch.backends.cudnn.deterministic = True\n",
    "\n",
    "# Define fields to hold the data using NLTK tokenizer\n",
    "LABEL = data.LabelField(dtype=torch.float)\n",
    "TITLE = data.Field(tokenize=word_tokenize)\n",
    "TEXT = data.Field(tokenize=word_tokenize)\n",
    "\n",
    "fields = [('label', LABEL), ('title', TITLE), ('content', TEXT)]"
   ]
  },
  {
   "cell_type": "code",
   "execution_count": 6,
   "id": "5d84e9a5-a4ba-4a32-8ad9-e96609def007",
   "metadata": {},
   "outputs": [],
   "source": [
    "train_data, test_data = data.TabularDataset.splits(\n",
    "    path='cleaned',\n",
    "    train='train.csv', \n",
    "    test='test.csv',\n",
    "    format='csv',\n",
    "    fields=fields,\n",
    "    skip_header=True  # dataset has a header(title)\n",
    ")"
   ]
  },
  {
   "cell_type": "code",
   "execution_count": 9,
   "id": "248226be-8765-43ce-821c-f1aed19d50fe",
   "metadata": {},
   "outputs": [],
   "source": [
    "# Perform train/validation set split\n",
    "train_data, valid_data = train_data.split(split_ratio=0.9, random_state=random.seed(SEED))\n",
    "\n",
    "# Build the vocabulary\n",
    "TEXT.build_vocab(train_data.title, train_data.content, max_size=15000, vectors=custom_embeddings)\n",
    "TITLE.vocab = TEXT.vocab\n",
    "LABEL.build_vocab(train_data)"
   ]
  },
  {
   "cell_type": "code",
   "execution_count": 10,
   "id": "330dbf88-ef7b-4de9-b778-f84dbefb0b13",
   "metadata": {},
   "outputs": [
    {
     "data": {
      "text/plain": [
       "15002"
      ]
     },
     "execution_count": 10,
     "metadata": {},
     "output_type": "execute_result"
    }
   ],
   "source": [
    "len(TEXT.vocab)"
   ]
  },
  {
   "cell_type": "code",
   "execution_count": 6,
   "id": "1519d4fd-4764-4d5b-ae31-17eecece0060",
   "metadata": {},
   "outputs": [],
   "source": [
    "# Create the iterator and place the tensor it returned on GPU(if it is available)\n",
    "BATCH_SIZE = 32\n",
    "device = torch.device('mps' if torch.cuda.is_available() else 'cpu')\n",
    "\n",
    "train_iterator, valid_iterator, test_iterator = data.BucketIterator.splits(\n",
    "    (train_data, valid_data, test_data),\n",
    "    batch_size=BATCH_SIZE,\n",
    "    sort_key=lambda x: len(x.content),\n",
    "    device=device\n",
    ")"
   ]
  },
  {
   "cell_type": "code",
   "execution_count": 7,
   "id": "b4ec3585-9445-4801-bdac-380fd100e5df",
   "metadata": {},
   "outputs": [],
   "source": [
    "class RNN(nn.Module):\n",
    "    def __init__(self, vocab_size, embedding_dim, hidden_dim,\n",
    "                 output_dim, n_layers, bidirectional, dropout):\n",
    "        super().__init__()\n",
    "\n",
    "        self.embedding = nn.Embedding(vocab_size, embedding_dim)\n",
    "        self.rnn = nn.GRU(embedding_dim, hidden_dim, num_layers=n_layers,\n",
    "                          bidirectional=bidirectional, dropout=dropout)\n",
    "        self.fc = nn.Linear(hidden_dim * 2, output_dim)\n",
    "        self.dropout = nn.Dropout(dropout)\n",
    "\n",
    "    def forward(self, text):\n",
    "        embedded = self.dropout(self.embedding(text))\n",
    "        output, hidden = self.rnn(embedded)\n",
    "        hidden = self.dropout(torch.cat((hidden[-2, :, :], hidden[-1, :, :]), dim=1))\n",
    "        return self.fc(hidden.squeeze(0))"
   ]
  },
  {
   "cell_type": "code",
   "execution_count": 12,
   "id": "f05099f6-d727-43f1-a604-bf7694a658d4",
   "metadata": {},
   "outputs": [],
   "source": [
    "INPUT_DIM = len(TEXT.vocab)\n",
    "EMBEDDING_DIM = 50\n",
    "HIDDEN_DIM = 256\n",
    "OUTPUT_DIM = len(LABEL.vocab)\n",
    "N_LAYERS = 2\n",
    "BIDIRECTIONAL = True\n",
    "DROPOUT = 0.5"
   ]
  },
  {
   "cell_type": "code",
   "execution_count": 14,
   "id": "396633a1-c0a2-433c-ad97-805bf699940c",
   "metadata": {},
   "outputs": [],
   "source": [
    "model = RNN(INPUT_DIM, EMBEDDING_DIM, HIDDEN_DIM, OUTPUT_DIM, N_LAYERS, BIDIRECTIONAL, DROPOUT)\n",
    "\n",
    "pretrained_embeddings = TEXT.vocab.vectors\n",
    "\n",
    "model.embedding.weight.data.copy_(pretrained_embeddings)\n",
    "\n",
    "UNK_IDX = TEXT.vocab.stoi[TEXT.unk_token]\n",
    "\n",
    "model.embedding.weight.data[UNK_IDX] = torch.zeros(EMBEDDING_DIM)\n",
    "model.embedding.weight.data[PAD_IDX] = torch.zeros(EMBEDDING_DIM)\n",
    "\n",
    "optimizer = optim.Adam(model.parameters())\n",
    "\n",
    "criterion = nn.CrossEntropyLoss()\n",
    "\n",
    "model = model.to(device)\n",
    "criterion = criterion.to(device)"
   ]
  },
  {
   "cell_type": "code",
   "execution_count": 15,
   "id": "f31dc290-21f3-429d-9df6-0a1d63aa0230",
   "metadata": {},
   "outputs": [],
   "source": [
    "def multiclass_accuracy(preds, y):\n",
    "    \"\"\"\n",
    "    Returns accuracy per batch, i.e. if you get 8/10 right, this returns 0.8, NOT 8\n",
    "    \"\"\"\n",
    "    rounded_preds = torch.max(preds, 1)[1]\n",
    "    correct = (rounded_preds == y).float()  # convert into float for division\n",
    "    acc = correct.sum() / len(correct)\n",
    "    return acc"
   ]
  },
  {
   "cell_type": "code",
   "execution_count": 17,
   "id": "8472a7a4-d871-4619-a30f-f89799fb36d4",
   "metadata": {},
   "outputs": [],
   "source": [
    "def multiclass_accuracy(preds, y):\n",
    "    \"\"\"\n",
    "    Returns accuracy per batch, i.e. if you get 8/10 right, this returns 0.8, NOT 8\n",
    "    \"\"\"\n",
    "    rounded_preds = torch.max(preds, 1)[1]\n",
    "    correct = (rounded_preds == y).float()  # convert into float for division\n",
    "    acc = correct.sum() / len(correct)\n",
    "    return acc\n",
    "\n",
    "# Train the model\n",
    "def train(model, iterator, optimizer, criterion):\n",
    "    \"\"\"Training the model\"\"\"\n",
    "    epoch_loss = 0\n",
    "    epoch_acc = 0\n",
    "    model.train()\n",
    "\n",
    "    for batch in iterator:\n",
    "        optimizer.zero_grad()\n",
    "\n",
    "        predictions = model(torch.cat((batch.title, batch.content), 0)).squeeze(1)\n",
    "        loss = criterion(predictions, batch.label.type(torch.long).to(device))\n",
    "        acc = multiclass_accuracy(predictions, batch.label.type(torch.long).to(device))\n",
    "        loss.backward()\n",
    "        optimizer.step()\n",
    "        epoch_loss += loss.item()\n",
    "        epoch_acc += acc.item()\n",
    "\n",
    "    return epoch_loss / len(iterator), epoch_acc / len(iterator)\n",
    "\n",
    "# Evaluate the model\n",
    "def evaluate(model, iterator, criterion):\n",
    "    \"\"\"Evaluating the model\"\"\"\n",
    "    epoch_loss = 0\n",
    "    epoch_acc = 0\n",
    "    model.eval()\n",
    "\n",
    "    with torch.no_grad():\n",
    "        for batch in iterator:\n",
    "            predictions = model(torch.cat((batch.title, batch.content), 0)).squeeze(1)\n",
    "            loss = criterion(predictions, batch.label.type(torch.long).to(device))\n",
    "            acc = multiclass_accuracy(predictions, batch.label.type(torch.long).to(device))\n",
    "            epoch_loss += loss.item()\n",
    "            epoch_acc += acc.item()\n",
    "\n",
    "    return epoch_loss / len(iterator), epoch_acc / len(iterator)\n",
    "\n",
    "def count_parameters(model):\n",
    "    return sum(p.numel() for p in model.parameters() if p.requires_grad)\n"
   ]
  },
  {
   "cell_type": "code",
   "execution_count": 18,
   "id": "2bb2b591-6a45-4e6b-82ab-9086f55c276e",
   "metadata": {},
   "outputs": [
    {
     "name": "stderr",
     "output_type": "stream",
     "text": [
      "Training Epoch 1: 100%|███████████████████████| 466/466 [32:01<00:00,  4.12s/it]\n",
      "Validating Epoch 1: 100%|███████████████████████| 52/52 [01:01<00:00,  1.18s/it]\n"
     ]
    },
    {
     "name": "stdout",
     "output_type": "stream",
     "text": [
      "\n",
      "| Epoch: 01 | Train Loss: 1.018 | Train Acc: 69.50% | Val. Loss: 0.679 | Val. Acc: 79.69% |\n"
     ]
    },
    {
     "name": "stderr",
     "output_type": "stream",
     "text": [
      "Training Epoch 2: 100%|███████████████████████| 466/466 [35:57<00:00,  4.63s/it]\n",
      "Validating Epoch 2: 100%|███████████████████████| 52/52 [00:59<00:00,  1.14s/it]\n"
     ]
    },
    {
     "name": "stdout",
     "output_type": "stream",
     "text": [
      "\n",
      "| Epoch: 02 | Train Loss: 0.615 | Train Acc: 81.62% | Val. Loss: 0.557 | Val. Acc: 83.14% |\n"
     ]
    },
    {
     "name": "stderr",
     "output_type": "stream",
     "text": [
      "Training Epoch 3: 100%|███████████████████████| 466/466 [42:12<00:00,  5.43s/it]\n",
      "Validating Epoch 3: 100%|███████████████████████| 52/52 [00:49<00:00,  1.06it/s]\n"
     ]
    },
    {
     "name": "stdout",
     "output_type": "stream",
     "text": [
      "\n",
      "| Epoch: 03 | Train Loss: 0.502 | Train Acc: 84.76% | Val. Loss: 0.485 | Val. Acc: 84.99% |\n"
     ]
    },
    {
     "name": "stderr",
     "output_type": "stream",
     "text": [
      "Training Epoch 4: 100%|███████████████████████| 466/466 [40:56<00:00,  5.27s/it]\n",
      "Validating Epoch 4: 100%|███████████████████████| 52/52 [02:26<00:00,  2.82s/it]\n"
     ]
    },
    {
     "name": "stdout",
     "output_type": "stream",
     "text": [
      "\n",
      "| Epoch: 04 | Train Loss: 0.421 | Train Acc: 87.23% | Val. Loss: 0.461 | Val. Acc: 85.97% |\n"
     ]
    },
    {
     "name": "stderr",
     "output_type": "stream",
     "text": [
      "Training Epoch 5: 100%|███████████████████████| 466/466 [36:50<00:00,  4.74s/it]\n",
      "Validating Epoch 5: 100%|███████████████████████| 52/52 [00:42<00:00,  1.21it/s]\n"
     ]
    },
    {
     "name": "stdout",
     "output_type": "stream",
     "text": [
      "\n",
      "| Epoch: 05 | Train Loss: 0.368 | Train Acc: 88.70% | Val. Loss: 0.407 | Val. Acc: 88.50% |\n"
     ]
    },
    {
     "name": "stderr",
     "output_type": "stream",
     "text": [
      "Training Epoch 6: 100%|███████████████████████| 466/466 [30:45<00:00,  3.96s/it]\n",
      "Validating Epoch 6: 100%|███████████████████████| 52/52 [00:52<00:00,  1.01s/it]\n"
     ]
    },
    {
     "name": "stdout",
     "output_type": "stream",
     "text": [
      "\n",
      "| Epoch: 06 | Train Loss: 0.333 | Train Acc: 89.85% | Val. Loss: 0.405 | Val. Acc: 88.03% |\n"
     ]
    },
    {
     "name": "stderr",
     "output_type": "stream",
     "text": [
      "Training Epoch 7: 100%|███████████████████████| 466/466 [31:58<00:00,  4.12s/it]\n",
      "Validating Epoch 7: 100%|███████████████████████| 52/52 [00:39<00:00,  1.31it/s]\n"
     ]
    },
    {
     "name": "stdout",
     "output_type": "stream",
     "text": [
      "\n",
      "| Epoch: 07 | Train Loss: 0.296 | Train Acc: 90.79% | Val. Loss: 0.400 | Val. Acc: 89.34% |\n"
     ]
    },
    {
     "name": "stderr",
     "output_type": "stream",
     "text": [
      "Training Epoch 8: 100%|███████████████████████| 466/466 [31:16<00:00,  4.03s/it]\n",
      "Validating Epoch 8: 100%|███████████████████████| 52/52 [00:43<00:00,  1.19it/s]\n"
     ]
    },
    {
     "name": "stdout",
     "output_type": "stream",
     "text": [
      "\n",
      "| Epoch: 08 | Train Loss: 0.266 | Train Acc: 91.72% | Val. Loss: 0.402 | Val. Acc: 88.20% |\n"
     ]
    },
    {
     "name": "stderr",
     "output_type": "stream",
     "text": [
      "Training Epoch 9: 100%|███████████████████████| 466/466 [30:40<00:00,  3.95s/it]\n",
      "Validating Epoch 9: 100%|███████████████████████| 52/52 [00:50<00:00,  1.04it/s]\n"
     ]
    },
    {
     "name": "stdout",
     "output_type": "stream",
     "text": [
      "\n",
      "| Epoch: 09 | Train Loss: 0.237 | Train Acc: 92.63% | Val. Loss: 0.454 | Val. Acc: 87.79% |\n"
     ]
    },
    {
     "name": "stderr",
     "output_type": "stream",
     "text": [
      "Training Epoch 10: 100%|██████████████████████| 466/466 [31:32<00:00,  4.06s/it]\n",
      "Validating Epoch 10: 100%|██████████████████████| 52/52 [01:21<00:00,  1.57s/it]\n"
     ]
    },
    {
     "name": "stdout",
     "output_type": "stream",
     "text": [
      "\n",
      "| Epoch: 10 | Train Loss: 0.219 | Train Acc: 93.12% | Val. Loss: 0.422 | Val. Acc: 88.36% |\n"
     ]
    },
    {
     "name": "stderr",
     "output_type": "stream",
     "text": [
      "Testing: 100%|████████████████████████████████| 130/130 [02:30<00:00,  1.16s/it]"
     ]
    },
    {
     "name": "stdout",
     "output_type": "stream",
     "text": [
      "| Test Loss: 0.433 | Test Acc: 88.51% |\n",
      "The model has 2,412,064 trainable parameters\n"
     ]
    },
    {
     "name": "stderr",
     "output_type": "stream",
     "text": [
      "\n"
     ]
    }
   ],
   "source": [
    "from tqdm import tqdm\n",
    "\n",
    "if __name__ == \"__main__\":\n",
    "    N_EPOCHS = 10\n",
    "\n",
    "    for epoch in range(N_EPOCHS):\n",
    "        # Wrapping train_iterator with tqdm for a progress bar\n",
    "        train_iterator = tqdm(train_iterator, desc=f\"Training Epoch {epoch + 1}\")\n",
    "        train_loss, train_acc = train(model, train_iterator, optimizer, criterion)\n",
    "        \n",
    "        # Wrapping valid_iterator with tqdm for a progress bar\n",
    "        valid_iterator = tqdm(valid_iterator, desc=f\"Validating Epoch {epoch + 1}\")\n",
    "        valid_loss, valid_acc = evaluate(model, valid_iterator, criterion)\n",
    "        \n",
    "        print(f'\\n| Epoch: {epoch + 1:02} | Train Loss: {train_loss:.3f} | Train Acc: {train_acc * 100:.2f}% |'\n",
    "              f' Val. Loss: {valid_loss:.3f} | Val. Acc: {valid_acc * 100:.2f}% |')\n",
    "\n",
    "    # Wrapping test_iterator with tqdm for a progress bar\n",
    "    test_iterator = tqdm(test_iterator, desc=\"Testing\")\n",
    "    test_loss, test_acc = evaluate(model, test_iterator, criterion)\n",
    "    print(f'| Test Loss: {test_loss:.3f} | Test Acc: {test_acc * 100:.2f}% |')\n",
    "\n",
    "    print(f'The model has {count_parameters(model):,} trainable parameters')\n"
   ]
  },
  {
   "cell_type": "code",
   "execution_count": 19,
   "id": "94797b7f-18c6-4f92-8ad2-e849ee818223",
   "metadata": {},
   "outputs": [],
   "source": [
    "torch.save(model.state_dict(), 'bigru_kinn_model.pt')"
   ]
  },
  {
   "cell_type": "markdown",
   "id": "433c60fd-194e-4466-8080-c615eb44c45d",
   "metadata": {},
   "source": [
    "## Kirundi - without fine tuning"
   ]
  },
  {
   "cell_type": "code",
   "execution_count": 20,
   "id": "e023b040-6f27-4039-9fe0-3d1ac39c42d1",
   "metadata": {},
   "outputs": [],
   "source": [
    "SEED = 1234\n",
    "torch.manual_seed(SEED)\n",
    "torch.cuda.manual_seed(SEED)\n",
    "torch.backends.cudnn.deterministic = True\n",
    "\n",
    "# Define fields to hold the data using NLTK tokenizer\n",
    "LABEL = data.LabelField(dtype=torch.long, use_vocab=True)\n",
    "TITLE = data.Field(tokenize=word_tokenize)\n",
    "TEXT = data.Field(tokenize=word_tokenize)\n",
    "\n",
    "fields = [('label', LABEL), ('title', TITLE), ('content', TEXT)]"
   ]
  },
  {
   "cell_type": "code",
   "execution_count": 21,
   "id": "a4c83f56-8811-45f7-9dcc-59b2cbe8a108",
   "metadata": {},
   "outputs": [],
   "source": [
    "# Load your dataset (modify according to your actual dataset path and format)\n",
    "train_data, test_data = data.TabularDataset.splits(\n",
    "    path='cleaned',  # Change to the directory containing your CSV files\n",
    "    train='train.csv',  # Change to your train CSV file name\n",
    "    test='kir_test.csv',  # Change to your test CSV file name\n",
    "    format='csv',\n",
    "    fields=fields,\n",
    "    skip_header=True  # dataset has a header\n",
    ")"
   ]
  },
  {
   "cell_type": "code",
   "execution_count": 22,
   "id": "c3255827-056a-4cd6-a81f-755789e25dac",
   "metadata": {},
   "outputs": [],
   "source": [
    "TEXT.build_vocab(train_data, max_size=15000, vectors=custom_embeddings)\n",
    "TITLE.vocab = TEXT.vocab  # Sharing the same vocab between TITLE and TEXT fields\n",
    "LABEL.build_vocab(train_data)"
   ]
  },
  {
   "cell_type": "code",
   "execution_count": 23,
   "id": "fc96114f-689b-4f77-b868-bc26e3d5b00f",
   "metadata": {},
   "outputs": [],
   "source": [
    "# Create the iterator and place the tensor it returned on GPU(if it is available)\n",
    "BATCH_SIZE = 32\n",
    "device = torch.device('mps' if torch.cuda.is_available() else 'cpu')\n",
    "\n",
    "test_iterator = data.BucketIterator(\n",
    "    (test_data),\n",
    "    batch_size=BATCH_SIZE,\n",
    "    sort_key=lambda x: len(x.content),\n",
    "    device=device\n",
    ")"
   ]
  },
  {
   "cell_type": "code",
   "execution_count": 24,
   "id": "bb28bfa8-d8ec-4c16-8548-38ad10e5023f",
   "metadata": {},
   "outputs": [],
   "source": [
    "class RNN(nn.Module):\n",
    "    def __init__(self, vocab_size, embedding_dim, hidden_dim,\n",
    "                 output_dim, n_layers, bidirectional, dropout):\n",
    "        super().__init__()\n",
    "\n",
    "        self.embedding = nn.Embedding(vocab_size, embedding_dim)\n",
    "        self.rnn = nn.GRU(embedding_dim, hidden_dim, num_layers=n_layers,\n",
    "                          bidirectional=bidirectional, dropout=dropout)\n",
    "        self.fc = nn.Linear(hidden_dim * 2, output_dim)\n",
    "        self.dropout = nn.Dropout(dropout)\n",
    "\n",
    "    def forward(self, text):\n",
    "        embedded = self.dropout(self.embedding(text))\n",
    "        output, hidden = self.rnn(embedded)\n",
    "        hidden = self.dropout(torch.cat((hidden[-2, :, :], hidden[-1, :, :]), dim=1))\n",
    "        return self.fc(hidden.squeeze(0))"
   ]
  },
  {
   "cell_type": "code",
   "execution_count": 25,
   "id": "a58b7fe5-ad0f-4189-a9ba-a3de41b64fcb",
   "metadata": {},
   "outputs": [],
   "source": [
    "INPUT_DIM = len(TEXT.vocab)\n",
    "EMBEDDING_DIM = 50\n",
    "HIDDEN_DIM = 256\n",
    "OUTPUT_DIM = len(LABEL.vocab)\n",
    "N_LAYERS = 2\n",
    "BIDIRECTIONAL = True\n",
    "DROPOUT = 0.5"
   ]
  },
  {
   "cell_type": "code",
   "execution_count": 26,
   "id": "a7896b24-a2d8-4ca0-9d5e-44225e2decc2",
   "metadata": {},
   "outputs": [],
   "source": [
    "model = RNN(INPUT_DIM, EMBEDDING_DIM, HIDDEN_DIM, OUTPUT_DIM, N_LAYERS, BIDIRECTIONAL, DROPOUT)\n",
    "\n",
    "pretrained_embeddings = TEXT.vocab.vectors\n",
    "\n",
    "model.embedding.weight.data.copy_(pretrained_embeddings)\n",
    "\n",
    "UNK_IDX = TEXT.vocab.stoi[TEXT.unk_token]\n",
    "\n",
    "model.embedding.weight.data[UNK_IDX] = torch.zeros(EMBEDDING_DIM)\n",
    "model.embedding.weight.data[PAD_IDX] = torch.zeros(EMBEDDING_DIM)\n",
    "\n",
    "optimizer = optim.Adam(model.parameters())\n",
    "\n",
    "criterion = nn.CrossEntropyLoss()\n",
    "\n",
    "model = model.to(device)\n",
    "criterion = criterion.to(device)"
   ]
  },
  {
   "cell_type": "code",
   "execution_count": 27,
   "id": "1efed19e-30b8-4e3c-9bfc-1ae04fd71461",
   "metadata": {},
   "outputs": [
    {
     "data": {
      "text/plain": [
       "RNN(\n",
       "  (embedding): Embedding(15002, 50)\n",
       "  (rnn): GRU(50, 256, num_layers=2, dropout=0.5, bidirectional=True)\n",
       "  (fc): Linear(in_features=512, out_features=12, bias=True)\n",
       "  (dropout): Dropout(p=0.5, inplace=False)\n",
       ")"
      ]
     },
     "execution_count": 27,
     "metadata": {},
     "output_type": "execute_result"
    }
   ],
   "source": [
    "model_path = 'bigru_kinn_model.pt'\n",
    "model.load_state_dict(torch.load(model_path, map_location=device))\n",
    "model.eval()"
   ]
  },
  {
   "cell_type": "code",
   "execution_count": 29,
   "id": "8779527e-2053-4f49-995a-09f34eb1df48",
   "metadata": {},
   "outputs": [
    {
     "name": "stdout",
     "output_type": "stream",
     "text": [
      "Test Loss: 3.771 | Test Acc: 24.04% | Test F1: 0.23\n"
     ]
    }
   ],
   "source": [
    "from sklearn.metrics import f1_score\n",
    "\n",
    "def evaluate(model, iterator, criterion):\n",
    "    epoch_loss = 0\n",
    "    epoch_acc = 0\n",
    "    all_preds = []\n",
    "    all_labels = []\n",
    "\n",
    "    model.eval()\n",
    "\n",
    "    with torch.no_grad():\n",
    "        for batch in iterator:\n",
    "            predictions = model(batch.content).squeeze(1)\n",
    "            loss = criterion(predictions, batch.label)\n",
    "            acc = (predictions.argmax(1) == batch.label).sum().item() / len(batch.label)\n",
    "            \n",
    "            # Store predictions and labels for F1 score calculation\n",
    "            all_preds.extend(predictions.argmax(1).cpu().numpy())\n",
    "            all_labels.extend(batch.label.cpu().numpy())\n",
    "\n",
    "            epoch_loss += loss.item()\n",
    "            epoch_acc += acc\n",
    "\n",
    "    # Calculate F1 score\n",
    "    f1 = f1_score(all_labels, all_preds, average='weighted')  # or 'macro'/'micro' based on your need\n",
    "\n",
    "    return epoch_loss / len(iterator), epoch_acc / len(iterator), f1\n",
    "\n",
    "# Evaluate the model\n",
    "test_loss, test_acc, test_f1 = evaluate(model, test_iterator, criterion)\n",
    "\n",
    "print(f'Test Loss: {test_loss:.3f} | Test Acc: {test_acc*100:.2f}% | Test F1: {test_f1:.2f}')\n"
   ]
  },
  {
   "cell_type": "markdown",
   "id": "3d8a0087-8384-4ebd-a6df-b940461ca30d",
   "metadata": {},
   "source": [
    "## Kirundi - after fine tuning"
   ]
  },
  {
   "cell_type": "code",
   "execution_count": 110,
   "id": "5e73a7e6-bd34-40ac-96c5-e586c55c059e",
   "metadata": {},
   "outputs": [],
   "source": [
    "kir_embeddings = vocab.Vectors(name='W2V-Kir-50.txt',\n",
    "                                  cache='cache',\n",
    "                                  unk_init=torch.Tensor.normal_)"
   ]
  },
  {
   "cell_type": "code",
   "execution_count": 111,
   "id": "ef8e84be-f78a-4ce1-b09b-0824a4032ddb",
   "metadata": {},
   "outputs": [],
   "source": [
    "SEED = 1234\n",
    "torch.manual_seed(SEED)\n",
    "torch.cuda.manual_seed(SEED)\n",
    "torch.backends.cudnn.deterministic = True"
   ]
  },
  {
   "cell_type": "code",
   "execution_count": 112,
   "id": "e2829260-e2f5-4256-a6df-782fa26cd2b0",
   "metadata": {},
   "outputs": [],
   "source": [
    "# Define fields to hold the data using NLTK tokenizer\n",
    "LABEL = data.LabelField(dtype=torch.long, use_vocab=True)\n",
    "TITLE = data.Field(tokenize=word_tokenize)\n",
    "TEXT = data.Field(tokenize=word_tokenize)\n",
    "\n",
    "fields = [('label', LABEL), ('title', TITLE), ('content', TEXT)]"
   ]
  },
  {
   "cell_type": "code",
   "execution_count": 113,
   "id": "9597e7dc-528d-4ace-960d-37b2378fc9aa",
   "metadata": {},
   "outputs": [],
   "source": [
    "train_data, test_data = data.TabularDataset.splits(\n",
    "    path='cleaned',  # Change to the directory containing your CSV files\n",
    "    train='kir_train.csv',  # Change to your Kirundi train CSV file name\n",
    "    test='kir_test.csv',  # Change to your test CSV file name\n",
    "    format='csv',\n",
    "    fields=fields,\n",
    "    skip_header=True  # dataset has a header\n",
    ")"
   ]
  },
  {
   "cell_type": "code",
   "execution_count": 114,
   "id": "d5a2c3f3-eaeb-47ba-b348-2308fcfd40b2",
   "metadata": {},
   "outputs": [],
   "source": [
    "train_data, valid_data = train_data.split(split_ratio=0.9, random_state=random.seed(SEED))"
   ]
  },
  {
   "cell_type": "code",
   "execution_count": 115,
   "id": "45bcceb5-db52-4471-a96d-a20f1ccb82d5",
   "metadata": {},
   "outputs": [],
   "source": [
    "TEXT.build_vocab(train_data, max_size=15000, vectors=kir_embeddings)\n",
    "TITLE.vocab = TEXT.vocab  # Sharing the same vocab between TITLE and TEXT fields\n",
    "LABEL.build_vocab(train_data)"
   ]
  },
  {
   "cell_type": "code",
   "execution_count": 116,
   "id": "0cea34fa-9df2-4ac9-8443-884bd987757c",
   "metadata": {},
   "outputs": [],
   "source": [
    "BATCH_SIZE = 32\n",
    "device = torch.device('mps' if torch.cuda.is_available() else 'cpu')\n",
    "\n",
    "train_iterator, valid_iterator, test_iterator = data.BucketIterator.splits(\n",
    "    (train_data, valid_data, test_data),\n",
    "    batch_size=BATCH_SIZE,\n",
    "    sort_key=lambda x: len(x.content),\n",
    "    device=device\n",
    ")"
   ]
  },
  {
   "cell_type": "code",
   "execution_count": 117,
   "id": "46f2eff0-680f-4409-824d-b8bb0339dedc",
   "metadata": {},
   "outputs": [],
   "source": [
    "class RNN(nn.Module):\n",
    "    def __init__(self, vocab_size, embedding_dim, hidden_dim,\n",
    "                 output_dim, n_layers, bidirectional, dropout):\n",
    "        super().__init__()\n",
    "\n",
    "        self.embedding = nn.Embedding(vocab_size, embedding_dim)\n",
    "        self.rnn = nn.GRU(embedding_dim, hidden_dim, num_layers=n_layers,\n",
    "                          bidirectional=bidirectional, dropout=dropout)\n",
    "        self.fc = nn.Linear(hidden_dim * 2, output_dim)\n",
    "        self.dropout = nn.Dropout(dropout)\n",
    "\n",
    "    def forward(self, text):\n",
    "        embedded = self.dropout(self.embedding(text))\n",
    "        output, hidden = self.rnn(embedded)\n",
    "        hidden = self.dropout(torch.cat((hidden[-2, :, :], hidden[-1, :, :]), dim=1))\n",
    "        return self.fc(hidden.squeeze(0))"
   ]
  },
  {
   "cell_type": "code",
   "execution_count": 118,
   "id": "e3e57dcc-5e3b-4a23-92f1-5c5d3c0bf3b4",
   "metadata": {},
   "outputs": [],
   "source": [
    "INPUT_DIM = len(TEXT.vocab)\n",
    "EMBEDDING_DIM = 50  # Updated to match the GloVe embeddings dimension\n",
    "N_FILTERS = 150\n",
    "FILTER_SIZES = [3, 4, 5]\n",
    "OUTPUT_DIM = len(LABEL.vocab)\n",
    "DROPOUT = 0.5\n",
    "PAD_IDX = TEXT.vocab.stoi[TEXT.pad_token]\n",
    "\n",
    "model = RNN(INPUT_DIM, EMBEDDING_DIM, HIDDEN_DIM, OUTPUT_DIM, N_LAYERS, BIDIRECTIONAL, DROPOUT)"
   ]
  },
  {
   "cell_type": "code",
   "execution_count": 119,
   "id": "0ab6e9b9-e05c-466c-9edb-9d686ad800bd",
   "metadata": {},
   "outputs": [],
   "source": [
    "pretrained_embeddings = TEXT.vocab.vectors\n",
    "\n",
    "model.embedding.weight.data.copy_(pretrained_embeddings)\n",
    "\n",
    "UNK_IDX = TEXT.vocab.stoi[TEXT.unk_token]\n",
    "\n",
    "model.embedding.weight.data[UNK_IDX] = torch.zeros(EMBEDDING_DIM)\n",
    "model.embedding.weight.data[PAD_IDX] = torch.zeros(EMBEDDING_DIM)\n",
    "\n",
    "optimizer = optim.Adam(model.parameters())\n",
    "\n",
    "criterion = nn.CrossEntropyLoss()\n",
    "\n",
    "model = model.to(device)\n",
    "criterion = criterion.to(device)"
   ]
  },
  {
   "cell_type": "code",
   "execution_count": 75,
   "id": "4cc3ad2f-aa59-478a-a8e5-210ad5d4f476",
   "metadata": {},
   "outputs": [
    {
     "data": {
      "text/plain": [
       "<All keys matched successfully>"
      ]
     },
     "execution_count": 75,
     "metadata": {},
     "output_type": "execute_result"
    }
   ],
   "source": [
    "model_path = 'bigru_kinn_model.pt'\n",
    "model.load_state_dict(torch.load(model_path, map_location=device))"
   ]
  },
  {
   "cell_type": "code",
   "execution_count": 76,
   "id": "a5170d6a-e308-45e1-b848-66d5aa6349b7",
   "metadata": {},
   "outputs": [
    {
     "name": "stdout",
     "output_type": "stream",
     "text": [
      "Epoch: 01, Train Loss: 1.947, Train Acc: 36.61%, Val. Loss: 1.720, Val. Acc: 41.68%\n",
      "Saved best model with validation loss: 1.720\n",
      "Epoch: 02, Train Loss: 1.483, Train Acc: 50.20%, Val. Loss: 1.356, Val. Acc: 58.61%\n",
      "Saved best model with validation loss: 1.356\n",
      "Epoch: 03, Train Loss: 1.190, Train Acc: 61.67%, Val. Loss: 1.170, Val. Acc: 64.60%\n",
      "Saved best model with validation loss: 1.170\n",
      "Epoch: 04, Train Loss: 0.948, Train Acc: 68.79%, Val. Loss: 0.857, Val. Acc: 72.12%\n",
      "Saved best model with validation loss: 0.857\n",
      "Epoch: 05, Train Loss: 0.770, Train Acc: 74.20%, Val. Loss: 0.850, Val. Acc: 72.15%\n",
      "Saved best model with validation loss: 0.850\n",
      "Epoch: 06, Train Loss: 0.610, Train Acc: 79.52%, Val. Loss: 0.659, Val. Acc: 78.37%\n",
      "Saved best model with validation loss: 0.659\n",
      "Epoch: 07, Train Loss: 0.521, Train Acc: 81.33%, Val. Loss: 0.657, Val. Acc: 79.67%\n",
      "Saved best model with validation loss: 0.657\n",
      "Epoch: 08, Train Loss: 0.436, Train Acc: 83.31%, Val. Loss: 0.635, Val. Acc: 79.15%\n",
      "Saved best model with validation loss: 0.635\n",
      "Epoch: 09, Train Loss: 0.384, Train Acc: 85.52%, Val. Loss: 0.612, Val. Acc: 79.04%\n",
      "Saved best model with validation loss: 0.612\n",
      "Epoch: 10, Train Loss: 0.358, Train Acc: 86.60%, Val. Loss: 0.603, Val. Acc: 80.45%\n",
      "Saved best model with validation loss: 0.603\n",
      "Epoch: 11, Train Loss: 0.329, Train Acc: 87.33%, Val. Loss: 0.571, Val. Acc: 83.06%\n",
      "Saved best model with validation loss: 0.571\n",
      "Epoch: 12, Train Loss: 0.300, Train Acc: 88.17%, Val. Loss: 0.574, Val. Acc: 82.28%\n",
      "Epoch: 13, Train Loss: 0.277, Train Acc: 88.72%, Val. Loss: 0.611, Val. Acc: 81.50%\n",
      "Epoch: 14, Train Loss: 0.276, Train Acc: 89.16%, Val. Loss: 0.559, Val. Acc: 83.32%\n",
      "Saved best model with validation loss: 0.559\n"
     ]
    },
    {
     "ename": "KeyboardInterrupt",
     "evalue": "",
     "output_type": "error",
     "traceback": [
      "\u001b[0;31m---------------------------------------------------------------------------\u001b[0m",
      "\u001b[0;31mKeyboardInterrupt\u001b[0m                         Traceback (most recent call last)",
      "Cell \u001b[0;32mIn[76], line 45\u001b[0m\n\u001b[1;32m     43\u001b[0m \u001b[38;5;66;03m# Training loop with validation and checkpointing\u001b[39;00m\n\u001b[1;32m     44\u001b[0m \u001b[38;5;28;01mfor\u001b[39;00m epoch \u001b[38;5;129;01min\u001b[39;00m \u001b[38;5;28mrange\u001b[39m(N_EPOCHS):\n\u001b[0;32m---> 45\u001b[0m     train_loss, train_acc \u001b[38;5;241m=\u001b[39m \u001b[43mtrain\u001b[49m\u001b[43m(\u001b[49m\u001b[43mmodel\u001b[49m\u001b[43m,\u001b[49m\u001b[43m \u001b[49m\u001b[43mtrain_iterator\u001b[49m\u001b[43m,\u001b[49m\u001b[43m \u001b[49m\u001b[43moptimizer\u001b[49m\u001b[43m,\u001b[49m\u001b[43m \u001b[49m\u001b[43mcriterion\u001b[49m\u001b[43m)\u001b[49m\n\u001b[1;32m     46\u001b[0m     valid_loss, valid_acc \u001b[38;5;241m=\u001b[39m evaluate(model, valid_iterator, criterion)\n\u001b[1;32m     48\u001b[0m     \u001b[38;5;28mprint\u001b[39m(\u001b[38;5;124mf\u001b[39m\u001b[38;5;124m'\u001b[39m\u001b[38;5;124mEpoch: \u001b[39m\u001b[38;5;132;01m{\u001b[39;00mepoch\u001b[38;5;241m+\u001b[39m\u001b[38;5;241m1\u001b[39m\u001b[38;5;132;01m:\u001b[39;00m\u001b[38;5;124m02\u001b[39m\u001b[38;5;132;01m}\u001b[39;00m\u001b[38;5;124m, Train Loss: \u001b[39m\u001b[38;5;132;01m{\u001b[39;00mtrain_loss\u001b[38;5;132;01m:\u001b[39;00m\u001b[38;5;124m.3f\u001b[39m\u001b[38;5;132;01m}\u001b[39;00m\u001b[38;5;124m, Train Acc: \u001b[39m\u001b[38;5;132;01m{\u001b[39;00mtrain_acc\u001b[38;5;241m*\u001b[39m\u001b[38;5;241m100\u001b[39m\u001b[38;5;132;01m:\u001b[39;00m\u001b[38;5;124m.2f\u001b[39m\u001b[38;5;132;01m}\u001b[39;00m\u001b[38;5;124m%, Val. Loss: \u001b[39m\u001b[38;5;132;01m{\u001b[39;00mvalid_loss\u001b[38;5;132;01m:\u001b[39;00m\u001b[38;5;124m.3f\u001b[39m\u001b[38;5;132;01m}\u001b[39;00m\u001b[38;5;124m, Val. Acc: \u001b[39m\u001b[38;5;132;01m{\u001b[39;00mvalid_acc\u001b[38;5;241m*\u001b[39m\u001b[38;5;241m100\u001b[39m\u001b[38;5;132;01m:\u001b[39;00m\u001b[38;5;124m.2f\u001b[39m\u001b[38;5;132;01m}\u001b[39;00m\u001b[38;5;124m%\u001b[39m\u001b[38;5;124m'\u001b[39m)\n",
      "Cell \u001b[0;32mIn[76], line 19\u001b[0m, in \u001b[0;36mtrain\u001b[0;34m(model, iterator, optimizer, criterion)\u001b[0m\n\u001b[1;32m     17\u001b[0m loss \u001b[38;5;241m=\u001b[39m criterion(predictions, batch\u001b[38;5;241m.\u001b[39mlabel\u001b[38;5;241m.\u001b[39mlong())  \u001b[38;5;66;03m# Convert batch.label to LongTensor\u001b[39;00m\n\u001b[1;32m     18\u001b[0m acc \u001b[38;5;241m=\u001b[39m (predictions\u001b[38;5;241m.\u001b[39margmax(\u001b[38;5;241m1\u001b[39m) \u001b[38;5;241m==\u001b[39m batch\u001b[38;5;241m.\u001b[39mlabel\u001b[38;5;241m.\u001b[39mlong())\u001b[38;5;241m.\u001b[39msum()\u001b[38;5;241m.\u001b[39mitem() \u001b[38;5;241m/\u001b[39m \u001b[38;5;28mlen\u001b[39m(batch\u001b[38;5;241m.\u001b[39mlabel)\n\u001b[0;32m---> 19\u001b[0m \u001b[43mloss\u001b[49m\u001b[38;5;241;43m.\u001b[39;49m\u001b[43mbackward\u001b[49m\u001b[43m(\u001b[49m\u001b[43m)\u001b[49m\n\u001b[1;32m     20\u001b[0m optimizer\u001b[38;5;241m.\u001b[39mstep()\n\u001b[1;32m     21\u001b[0m epoch_loss \u001b[38;5;241m+\u001b[39m\u001b[38;5;241m=\u001b[39m loss\u001b[38;5;241m.\u001b[39mitem()\n",
      "File \u001b[0;32m~/anaconda3/envs/ddsi/lib/python3.11/site-packages/torch/_tensor.py:525\u001b[0m, in \u001b[0;36mTensor.backward\u001b[0;34m(self, gradient, retain_graph, create_graph, inputs)\u001b[0m\n\u001b[1;32m    515\u001b[0m \u001b[38;5;28;01mif\u001b[39;00m has_torch_function_unary(\u001b[38;5;28mself\u001b[39m):\n\u001b[1;32m    516\u001b[0m     \u001b[38;5;28;01mreturn\u001b[39;00m handle_torch_function(\n\u001b[1;32m    517\u001b[0m         Tensor\u001b[38;5;241m.\u001b[39mbackward,\n\u001b[1;32m    518\u001b[0m         (\u001b[38;5;28mself\u001b[39m,),\n\u001b[0;32m   (...)\u001b[0m\n\u001b[1;32m    523\u001b[0m         inputs\u001b[38;5;241m=\u001b[39minputs,\n\u001b[1;32m    524\u001b[0m     )\n\u001b[0;32m--> 525\u001b[0m \u001b[43mtorch\u001b[49m\u001b[38;5;241;43m.\u001b[39;49m\u001b[43mautograd\u001b[49m\u001b[38;5;241;43m.\u001b[39;49m\u001b[43mbackward\u001b[49m\u001b[43m(\u001b[49m\n\u001b[1;32m    526\u001b[0m \u001b[43m    \u001b[49m\u001b[38;5;28;43mself\u001b[39;49m\u001b[43m,\u001b[49m\u001b[43m \u001b[49m\u001b[43mgradient\u001b[49m\u001b[43m,\u001b[49m\u001b[43m \u001b[49m\u001b[43mretain_graph\u001b[49m\u001b[43m,\u001b[49m\u001b[43m \u001b[49m\u001b[43mcreate_graph\u001b[49m\u001b[43m,\u001b[49m\u001b[43m \u001b[49m\u001b[43minputs\u001b[49m\u001b[38;5;241;43m=\u001b[39;49m\u001b[43minputs\u001b[49m\n\u001b[1;32m    527\u001b[0m \u001b[43m\u001b[49m\u001b[43m)\u001b[49m\n",
      "File \u001b[0;32m~/anaconda3/envs/ddsi/lib/python3.11/site-packages/torch/autograd/__init__.py:267\u001b[0m, in \u001b[0;36mbackward\u001b[0;34m(tensors, grad_tensors, retain_graph, create_graph, grad_variables, inputs)\u001b[0m\n\u001b[1;32m    262\u001b[0m     retain_graph \u001b[38;5;241m=\u001b[39m create_graph\n\u001b[1;32m    264\u001b[0m \u001b[38;5;66;03m# The reason we repeat the same comment below is that\u001b[39;00m\n\u001b[1;32m    265\u001b[0m \u001b[38;5;66;03m# some Python versions print out the first line of a multi-line function\u001b[39;00m\n\u001b[1;32m    266\u001b[0m \u001b[38;5;66;03m# calls in the traceback and some print out the last line\u001b[39;00m\n\u001b[0;32m--> 267\u001b[0m \u001b[43m_engine_run_backward\u001b[49m\u001b[43m(\u001b[49m\n\u001b[1;32m    268\u001b[0m \u001b[43m    \u001b[49m\u001b[43mtensors\u001b[49m\u001b[43m,\u001b[49m\n\u001b[1;32m    269\u001b[0m \u001b[43m    \u001b[49m\u001b[43mgrad_tensors_\u001b[49m\u001b[43m,\u001b[49m\n\u001b[1;32m    270\u001b[0m \u001b[43m    \u001b[49m\u001b[43mretain_graph\u001b[49m\u001b[43m,\u001b[49m\n\u001b[1;32m    271\u001b[0m \u001b[43m    \u001b[49m\u001b[43mcreate_graph\u001b[49m\u001b[43m,\u001b[49m\n\u001b[1;32m    272\u001b[0m \u001b[43m    \u001b[49m\u001b[43minputs\u001b[49m\u001b[43m,\u001b[49m\n\u001b[1;32m    273\u001b[0m \u001b[43m    \u001b[49m\u001b[43mallow_unreachable\u001b[49m\u001b[38;5;241;43m=\u001b[39;49m\u001b[38;5;28;43;01mTrue\u001b[39;49;00m\u001b[43m,\u001b[49m\n\u001b[1;32m    274\u001b[0m \u001b[43m    \u001b[49m\u001b[43maccumulate_grad\u001b[49m\u001b[38;5;241;43m=\u001b[39;49m\u001b[38;5;28;43;01mTrue\u001b[39;49;00m\u001b[43m,\u001b[49m\n\u001b[1;32m    275\u001b[0m \u001b[43m\u001b[49m\u001b[43m)\u001b[49m\n",
      "File \u001b[0;32m~/anaconda3/envs/ddsi/lib/python3.11/site-packages/torch/autograd/graph.py:744\u001b[0m, in \u001b[0;36m_engine_run_backward\u001b[0;34m(t_outputs, *args, **kwargs)\u001b[0m\n\u001b[1;32m    742\u001b[0m     unregister_hooks \u001b[38;5;241m=\u001b[39m _register_logging_hooks_on_whole_graph(t_outputs)\n\u001b[1;32m    743\u001b[0m \u001b[38;5;28;01mtry\u001b[39;00m:\n\u001b[0;32m--> 744\u001b[0m     \u001b[38;5;28;01mreturn\u001b[39;00m \u001b[43mVariable\u001b[49m\u001b[38;5;241;43m.\u001b[39;49m\u001b[43m_execution_engine\u001b[49m\u001b[38;5;241;43m.\u001b[39;49m\u001b[43mrun_backward\u001b[49m\u001b[43m(\u001b[49m\u001b[43m  \u001b[49m\u001b[38;5;66;43;03m# Calls into the C++ engine to run the backward pass\u001b[39;49;00m\n\u001b[1;32m    745\u001b[0m \u001b[43m        \u001b[49m\u001b[43mt_outputs\u001b[49m\u001b[43m,\u001b[49m\u001b[43m \u001b[49m\u001b[38;5;241;43m*\u001b[39;49m\u001b[43margs\u001b[49m\u001b[43m,\u001b[49m\u001b[43m \u001b[49m\u001b[38;5;241;43m*\u001b[39;49m\u001b[38;5;241;43m*\u001b[39;49m\u001b[43mkwargs\u001b[49m\n\u001b[1;32m    746\u001b[0m \u001b[43m    \u001b[49m\u001b[43m)\u001b[49m  \u001b[38;5;66;03m# Calls into the C++ engine to run the backward pass\u001b[39;00m\n\u001b[1;32m    747\u001b[0m \u001b[38;5;28;01mfinally\u001b[39;00m:\n\u001b[1;32m    748\u001b[0m     \u001b[38;5;28;01mif\u001b[39;00m attach_logging_hooks:\n",
      "\u001b[0;31mKeyboardInterrupt\u001b[0m: "
     ]
    }
   ],
   "source": [
    "# Fine-tuning the model on Kirundi training data\n",
    "N_EPOCHS = 50\n",
    "\n",
    "# Initialize variables to track the best model\n",
    "best_valid_loss = float('inf')\n",
    "model_path = 'Bigru_tuned_model.pt'\n",
    "\n",
    "def train(model, iterator, optimizer, criterion):\n",
    "    epoch_loss = 0\n",
    "    epoch_acc = 0\n",
    "\n",
    "    model.train()\n",
    "\n",
    "    for batch in iterator:\n",
    "        optimizer.zero_grad()\n",
    "        predictions = model(batch.content).squeeze(1)\n",
    "        loss = criterion(predictions, batch.label.long())  # Convert batch.label to LongTensor\n",
    "        acc = (predictions.argmax(1) == batch.label.long()).sum().item() / len(batch.label)\n",
    "        loss.backward()\n",
    "        optimizer.step()\n",
    "        epoch_loss += loss.item()\n",
    "        epoch_acc += acc\n",
    "\n",
    "    return epoch_loss / len(iterator), epoch_acc / len(iterator)\n",
    "\n",
    "def evaluate(model, iterator, criterion):\n",
    "    epoch_loss = 0\n",
    "    epoch_acc = 0\n",
    "\n",
    "    model.eval()\n",
    "\n",
    "    with torch.no_grad():\n",
    "        for batch in iterator:\n",
    "            predictions = model(batch.content).squeeze(1)\n",
    "            loss = criterion(predictions, batch.label.long())  # Convert batch.label to LongTensor\n",
    "            acc = (predictions.argmax(1) == batch.label.long()).sum().item() / len(batch.label)\n",
    "            \n",
    "            epoch_loss += loss.item()\n",
    "            epoch_acc += acc\n",
    "\n",
    "    return epoch_loss / len(iterator), epoch_acc / len(iterator)\n",
    "\n",
    "# Training loop with validation and checkpointing\n",
    "for epoch in range(N_EPOCHS):\n",
    "    train_loss, train_acc = train(model, train_iterator, optimizer, criterion)\n",
    "    valid_loss, valid_acc = evaluate(model, valid_iterator, criterion)\n",
    "    \n",
    "    print(f'Epoch: {epoch+1:02}, Train Loss: {train_loss:.3f}, Train Acc: {train_acc*100:.2f}%, Val. Loss: {valid_loss:.3f}, Val. Acc: {valid_acc*100:.2f}%')\n",
    "    \n",
    "    # Save the model if the validation loss improves\n",
    "    if valid_loss < best_valid_loss:\n",
    "        best_valid_loss = valid_loss\n",
    "        torch.save(model.state_dict(), model_path)\n",
    "        print(f'Saved best model with validation loss: {best_valid_loss:.3f}')\n"
   ]
  },
  {
   "cell_type": "code",
   "execution_count": null,
   "id": "f0a624b8-c074-4b92-8747-c50eed053f5a",
   "metadata": {},
   "outputs": [],
   "source": [
    "torch.save(model.state_dict(), 'Bigru_tuned_model.pt')"
   ]
  },
  {
   "cell_type": "code",
   "execution_count": 77,
   "id": "24bdefe3-5522-4bd3-a9d1-48e2c8891f48",
   "metadata": {},
   "outputs": [
    {
     "data": {
      "text/plain": [
       "RNN(\n",
       "  (embedding): Embedding(15002, 50)\n",
       "  (rnn): GRU(50, 256, num_layers=2, dropout=0.5, bidirectional=True)\n",
       "  (fc): Linear(in_features=512, out_features=12, bias=True)\n",
       "  (dropout): Dropout(p=0.5, inplace=False)\n",
       ")"
      ]
     },
     "execution_count": 77,
     "metadata": {},
     "output_type": "execute_result"
    }
   ],
   "source": [
    "model.eval()"
   ]
  },
  {
   "cell_type": "code",
   "execution_count": 122,
   "id": "cc223720-dafb-42e0-b36f-4fe9589a74dc",
   "metadata": {},
   "outputs": [
    {
     "name": "stdout",
     "output_type": "stream",
     "text": [
      "Test Loss: 0.432 | Test Acc: 87.26% | Test F1 Score: 0.870\n"
     ]
    }
   ],
   "source": [
    "from sklearn.metrics import f1_score\n",
    "\n",
    "def evaluate(model, iterator, criterion):\n",
    "    epoch_loss = 0\n",
    "    epoch_acc = 0\n",
    "    all_preds = []\n",
    "    all_labels = []\n",
    "\n",
    "    model.eval()\n",
    "\n",
    "    with torch.no_grad():\n",
    "        for batch in iterator:\n",
    "            predictions = model(batch.content).squeeze(1)\n",
    "            loss = criterion(predictions, batch.label)\n",
    "            acc = (predictions.argmax(1) == batch.label).sum().item() / len(batch.label)\n",
    "\n",
    "            epoch_loss += loss.item()\n",
    "            epoch_acc += acc\n",
    "\n",
    "            all_preds.extend(predictions.argmax(1).cpu().numpy())\n",
    "            all_labels.extend(batch.label.cpu().numpy())\n",
    "\n",
    "    f1 = f1_score(all_labels, all_preds, average='weighted')\n",
    "\n",
    "    return epoch_loss / len(iterator), epoch_acc / len(iterator), f1\n",
    "\n",
    "test_loss, test_acc, test_f1 = evaluate(model, test_iterator, criterion)\n",
    "\n",
    "print(f'Test Loss: {test_loss:.3f} | Test Acc: {test_acc*100:.2f}% | Test F1 Score: {test_f1:.3f}')\n"
   ]
  },
  {
   "cell_type": "markdown",
   "id": "0484c842-2855-4de9-beae-a4a02f0f9f0d",
   "metadata": {},
   "source": [
    "## Evaluating forgetting on Kinyarwanda"
   ]
  },
  {
   "cell_type": "code",
   "execution_count": 79,
   "id": "3e8d15d9-da4e-4793-8a30-26a84f71c55c",
   "metadata": {},
   "outputs": [],
   "source": [
    "custom_embeddings = vocab.Vectors(name='W2V-Kin-50.txt',\n",
    "                                  cache='cache',\n",
    "                                  unk_init=torch.Tensor.normal_)"
   ]
  },
  {
   "cell_type": "code",
   "execution_count": 80,
   "id": "a4b20953-6cf9-4724-9d1f-cef55cba6a39",
   "metadata": {},
   "outputs": [],
   "source": [
    "SEED = 1234\n",
    "torch.manual_seed(SEED)\n",
    "torch.cuda.manual_seed(SEED)\n",
    "torch.backends.cudnn.deterministic = True\n",
    "\n",
    "# Define fields to hold the data using NLTK tokenizer\n",
    "LABEL = data.LabelField(dtype=torch.long, use_vocab=True)\n",
    "TITLE = data.Field(tokenize=word_tokenize)\n",
    "TEXT = data.Field(tokenize=word_tokenize)\n",
    "\n",
    "fields = [('label', LABEL), ('title', TITLE), ('content', TEXT)]"
   ]
  },
  {
   "cell_type": "code",
   "execution_count": 92,
   "id": "a42442b0-bcd7-4913-b059-ca181beaa86d",
   "metadata": {},
   "outputs": [],
   "source": [
    "train_data, test_data = data.TabularDataset.splits(\n",
    "    path='cleaned',\n",
    "    train='train.csv', \n",
    "    test='kir_test.csv',\n",
    "    format='csv',\n",
    "    fields=fields,\n",
    "    skip_header=True  # dataset has a header(title)\n",
    ")"
   ]
  },
  {
   "cell_type": "code",
   "execution_count": 93,
   "id": "3d6fac1c-c600-40a4-8b27-c8f01c395439",
   "metadata": {},
   "outputs": [],
   "source": [
    "TEXT.build_vocab(train_data, max_size=15000, vectors=kir_embeddings)\n",
    "TITLE.vocab = TEXT.vocab  # Sharing the same vocab between TITLE and TEXT fields\n",
    "LABEL.build_vocab(train_data)"
   ]
  },
  {
   "cell_type": "code",
   "execution_count": 94,
   "id": "4a883944-b3cc-41de-9721-f6825c1c0647",
   "metadata": {},
   "outputs": [],
   "source": [
    "train_data, valid_data = train_data.split(split_ratio=0.9, random_state=random.seed(SEED))"
   ]
  },
  {
   "cell_type": "code",
   "execution_count": 96,
   "id": "caeea03d-b29e-435b-b3f1-dd31fb3e3f2d",
   "metadata": {},
   "outputs": [],
   "source": [
    "BATCH_SIZE = 32\n",
    "device = torch.device('mps' if torch.cuda.is_available() else 'cpu')\n",
    "\n",
    "train_iterator, valid_iterator, test_iterator = data.BucketIterator.splits(\n",
    "    (train_data, valid_data, test_data),\n",
    "    batch_size=BATCH_SIZE,\n",
    "    sort_key=lambda x: len(x.content),\n",
    "    device=device\n",
    ")"
   ]
  },
  {
   "cell_type": "code",
   "execution_count": 97,
   "id": "d155bce5-0506-47c9-928f-5fb01a3c9b5a",
   "metadata": {},
   "outputs": [],
   "source": [
    "class RNN(nn.Module):\n",
    "    def __init__(self, vocab_size, embedding_dim, hidden_dim,\n",
    "                 output_dim, n_layers, bidirectional, dropout):\n",
    "        super().__init__()\n",
    "\n",
    "        self.embedding = nn.Embedding(vocab_size, embedding_dim)\n",
    "        self.rnn = nn.GRU(embedding_dim, hidden_dim, num_layers=n_layers,\n",
    "                          bidirectional=bidirectional, dropout=dropout)\n",
    "        self.fc = nn.Linear(hidden_dim * 2, output_dim)\n",
    "        self.dropout = nn.Dropout(dropout)\n",
    "\n",
    "    def forward(self, text):\n",
    "        embedded = self.dropout(self.embedding(text))\n",
    "        output, hidden = self.rnn(embedded)\n",
    "        hidden = self.dropout(torch.cat((hidden[-2, :, :], hidden[-1, :, :]), dim=1))\n",
    "        return self.fc(hidden.squeeze(0))"
   ]
  },
  {
   "cell_type": "code",
   "execution_count": 98,
   "id": "ff224fca-ff72-4996-b9c1-5dec23a31140",
   "metadata": {},
   "outputs": [],
   "source": [
    "INPUT_DIM = len(TEXT.vocab)\n",
    "EMBEDDING_DIM = 50\n",
    "HIDDEN_DIM = 256\n",
    "OUTPUT_DIM = len(LABEL.vocab)\n",
    "N_LAYERS = 2\n",
    "BIDIRECTIONAL = True\n",
    "DROPOUT = 0.5"
   ]
  },
  {
   "cell_type": "code",
   "execution_count": 99,
   "id": "1fd93066-9711-4f59-b0b1-e4bba4b1b7a9",
   "metadata": {},
   "outputs": [],
   "source": [
    "model = RNN(INPUT_DIM, EMBEDDING_DIM, HIDDEN_DIM, OUTPUT_DIM, N_LAYERS, BIDIRECTIONAL, DROPOUT)\n",
    "\n",
    "pretrained_embeddings = TEXT.vocab.vectors\n",
    "\n",
    "model.embedding.weight.data.copy_(pretrained_embeddings)\n",
    "\n",
    "UNK_IDX = TEXT.vocab.stoi[TEXT.unk_token]\n",
    "\n",
    "model.embedding.weight.data[UNK_IDX] = torch.zeros(EMBEDDING_DIM)\n",
    "model.embedding.weight.data[PAD_IDX] = torch.zeros(EMBEDDING_DIM)\n",
    "\n",
    "optimizer = optim.Adam(model.parameters())\n",
    "\n",
    "criterion = nn.CrossEntropyLoss()\n",
    "\n",
    "model = model.to(device)\n",
    "criterion = criterion.to(device)"
   ]
  },
  {
   "cell_type": "code",
   "execution_count": 100,
   "id": "2d8af31a-869f-439b-a2a8-dd49bf9522e1",
   "metadata": {},
   "outputs": [
    {
     "data": {
      "text/plain": [
       "<All keys matched successfully>"
      ]
     },
     "execution_count": 100,
     "metadata": {},
     "output_type": "execute_result"
    }
   ],
   "source": [
    "model_path = 'Bigru_tuned_model.pt'\n",
    "model.load_state_dict(torch.load(model_path, map_location=device))"
   ]
  },
  {
   "cell_type": "code",
   "execution_count": 101,
   "id": "2614c5bc-9fe2-466d-be50-551ed30d91cf",
   "metadata": {},
   "outputs": [
    {
     "data": {
      "text/plain": [
       "RNN(\n",
       "  (embedding): Embedding(15002, 50)\n",
       "  (rnn): GRU(50, 256, num_layers=2, dropout=0.5, bidirectional=True)\n",
       "  (fc): Linear(in_features=512, out_features=12, bias=True)\n",
       "  (dropout): Dropout(p=0.5, inplace=False)\n",
       ")"
      ]
     },
     "execution_count": 101,
     "metadata": {},
     "output_type": "execute_result"
    }
   ],
   "source": [
    "model.eval()"
   ]
  },
  {
   "cell_type": "code",
   "execution_count": 102,
   "id": "abaca486-92d3-4b07-ad81-c6526acae60e",
   "metadata": {},
   "outputs": [
    {
     "name": "stdout",
     "output_type": "stream",
     "text": [
      "Test Loss: 4.443 | Test Acc: 16.46% | Test F1: 0.14\n"
     ]
    }
   ],
   "source": [
    "from sklearn.metrics import f1_score\n",
    "\n",
    "def evaluate(model, iterator, criterion):\n",
    "    epoch_loss = 0\n",
    "    epoch_acc = 0\n",
    "    all_preds = []\n",
    "    all_labels = []\n",
    "\n",
    "    model.eval()\n",
    "\n",
    "    with torch.no_grad():\n",
    "        for batch in iterator:\n",
    "            predictions = model(batch.content).squeeze(1)\n",
    "            loss = criterion(predictions, batch.label)\n",
    "            acc = (predictions.argmax(1) == batch.label).sum().item() / len(batch.label)\n",
    "            \n",
    "            # Store predictions and labels for F1 score calculation\n",
    "            all_preds.extend(predictions.argmax(1).cpu().numpy())\n",
    "            all_labels.extend(batch.label.cpu().numpy())\n",
    "\n",
    "            epoch_loss += loss.item()\n",
    "            epoch_acc += acc\n",
    "\n",
    "    # Calculate F1 score\n",
    "    f1 = f1_score(all_labels, all_preds, average='weighted')  # or 'macro'/'micro' based on your need\n",
    "\n",
    "    return epoch_loss / len(iterator), epoch_acc / len(iterator), f1\n",
    "\n",
    "# Evaluate the model\n",
    "test_loss, test_acc, test_f1 = evaluate(model, test_iterator, criterion)\n",
    "\n",
    "print(f'Test Loss: {test_loss:.3f} | Test Acc: {test_acc*100:.2f}% | Test F1: {test_f1:.2f}')\n"
   ]
  },
  {
   "cell_type": "code",
   "execution_count": null,
   "id": "097beb0b-f15e-4df4-99ac-087b2a1f4498",
   "metadata": {},
   "outputs": [],
   "source": []
  }
 ],
 "metadata": {
  "kernelspec": {
   "display_name": "Python 3 (ipykernel)",
   "language": "python",
   "name": "python3"
  },
  "language_info": {
   "codemirror_mode": {
    "name": "ipython",
    "version": 3
   },
   "file_extension": ".py",
   "mimetype": "text/x-python",
   "name": "python",
   "nbconvert_exporter": "python",
   "pygments_lexer": "ipython3",
   "version": "3.11.9"
  }
 },
 "nbformat": 4,
 "nbformat_minor": 5
}
